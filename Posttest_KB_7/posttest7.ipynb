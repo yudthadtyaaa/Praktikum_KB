{
  "nbformat": 4,
  "nbformat_minor": 0,
  "metadata": {
    "colab": {
      "provenance": [],
      "gpuType": "T4"
    },
    "kernelspec": {
      "name": "python3",
      "display_name": "Python 3"
    },
    "language_info": {
      "name": "python"
    },
    "accelerator": "GPU"
  },
  "cells": [
    {
      "cell_type": "markdown",
      "source": [
        "LINK DATASET : https://www.kaggle.com/datasets/mikoajfish99/lions-or-cheetahs-image-classification"
      ],
      "metadata": {
        "id": "0Tg__33y9JXI"
      }
    },
    {
      "cell_type": "code",
      "source": [
        "!mkdir -p ~/.kaggle\n",
        "!cp kaggle.json ~/.kaggle/"
      ],
      "metadata": {
        "id": "7NPkHfrvsr2c"
      },
      "execution_count": 1,
      "outputs": []
    },
    {
      "cell_type": "code",
      "source": [
        "!kaggle datasets download -d mikoajfish99/lions-or-cheetahs-image-classification"
      ],
      "metadata": {
        "colab": {
          "base_uri": "https://localhost:8080/"
        },
        "id": "4ATFOBimtJf6",
        "outputId": "eace70e3-30ba-48fb-9207-efaad98649db"
      },
      "execution_count": 2,
      "outputs": [
        {
          "output_type": "stream",
          "name": "stdout",
          "text": [
            "Warning: Your Kaggle API key is readable by other users on this system! To fix this, you can run 'chmod 600 /root/.kaggle/kaggle.json'\n",
            "Downloading lions-or-cheetahs-image-classification.zip to /content\n",
            " 80% 57.0M/71.3M [00:00<00:00, 73.7MB/s]\n",
            "100% 71.3M/71.3M [00:00<00:00, 96.8MB/s]\n"
          ]
        }
      ]
    },
    {
      "cell_type": "code",
      "source": [
        "!unzip lions-or-cheetahs-image-classification.zip -d dataset_directory"
      ],
      "metadata": {
        "colab": {
          "base_uri": "https://localhost:8080/"
        },
        "id": "hkBtknygtdGt",
        "outputId": "3cf427c0-b5a8-408d-f801-56e513fb6a63"
      },
      "execution_count": 3,
      "outputs": [
        {
          "output_type": "stream",
          "name": "stdout",
          "text": [
            "Archive:  lions-or-cheetahs-image-classification.zip\n",
            "  inflating: dataset_directory/images/Cheetahs/0052cb267268c59e.jpg  \n",
            "  inflating: dataset_directory/images/Cheetahs/00707659aba29334.jpg  \n",
            "  inflating: dataset_directory/images/Cheetahs/007f9ffc01c7b106.jpg  \n",
            "  inflating: dataset_directory/images/Cheetahs/00bb45a8568a3474.jpg  \n",
            "  inflating: dataset_directory/images/Cheetahs/00c8d36882dd6d37.jpg  \n",
            "  inflating: dataset_directory/images/Cheetahs/00d100b0231b60e6.jpg  \n",
            "  inflating: dataset_directory/images/Cheetahs/00d9eb862ba3dfc6.jpg  \n",
            "  inflating: dataset_directory/images/Cheetahs/012f5ecbf49e1da0.jpg  \n",
            "  inflating: dataset_directory/images/Cheetahs/01750ba1a197e3ad.jpg  \n",
            "  inflating: dataset_directory/images/Cheetahs/01d688c043bdbfbb.jpg  \n",
            "  inflating: dataset_directory/images/Cheetahs/0230496e4a8ed917.jpg  \n",
            "  inflating: dataset_directory/images/Cheetahs/02871f24d5abe59c.jpg  \n",
            "  inflating: dataset_directory/images/Cheetahs/029b39c0b65ebeb3.jpg  \n",
            "  inflating: dataset_directory/images/Cheetahs/02a0439923768403.jpg  \n",
            "  inflating: dataset_directory/images/Cheetahs/02a5846a35629f1d.jpg  \n",
            "  inflating: dataset_directory/images/Cheetahs/02b086c4e96396f6.jpg  \n",
            "  inflating: dataset_directory/images/Cheetahs/02dd8dd4344b04a7.jpg  \n",
            "  inflating: dataset_directory/images/Cheetahs/0321448f2848ab99.jpg  \n",
            "  inflating: dataset_directory/images/Cheetahs/038182259bcc5bc0.jpg  \n",
            "  inflating: dataset_directory/images/Cheetahs/039d20705ddc6162.jpg  \n",
            "  inflating: dataset_directory/images/Cheetahs/03c7118d468d94aa.jpg  \n",
            "  inflating: dataset_directory/images/Cheetahs/03e4a856df44695a.jpg  \n",
            "  inflating: dataset_directory/images/Cheetahs/03f680447efaccfe.jpg  \n",
            "  inflating: dataset_directory/images/Cheetahs/048b18e2e692a424.jpg  \n",
            "  inflating: dataset_directory/images/Cheetahs/049fc60b9efd187b.jpg  \n",
            "  inflating: dataset_directory/images/Cheetahs/055dbbcca8626dbb.jpg  \n",
            "  inflating: dataset_directory/images/Cheetahs/05632fadcb5e1e9c.jpg  \n",
            "  inflating: dataset_directory/images/Cheetahs/06434b4d5989df37.jpg  \n",
            "  inflating: dataset_directory/images/Cheetahs/07642e275bb2b869.jpg  \n",
            "  inflating: dataset_directory/images/Cheetahs/07b7a0704a9a543b.jpg  \n",
            "  inflating: dataset_directory/images/Cheetahs/08108fb36d20a11d.jpg  \n",
            "  inflating: dataset_directory/images/Cheetahs/09017fd0f60f309a.jpg  \n",
            "  inflating: dataset_directory/images/Cheetahs/09ead945be525356.jpg  \n",
            "  inflating: dataset_directory/images/Cheetahs/0ae4f7841c26ba0d.jpg  \n",
            "  inflating: dataset_directory/images/Cheetahs/0c20fa69621a2e6c.jpg  \n",
            "  inflating: dataset_directory/images/Cheetahs/0c61b8d86a3e0889.jpg  \n",
            "  inflating: dataset_directory/images/Cheetahs/0c6e90e19f2b2bbc.jpg  \n",
            "  inflating: dataset_directory/images/Cheetahs/0db6601682a368e8.jpg  \n",
            "  inflating: dataset_directory/images/Cheetahs/0fb021bac7207533.jpg  \n",
            "  inflating: dataset_directory/images/Cheetahs/11377ee99115ffff.jpg  \n",
            "  inflating: dataset_directory/images/Cheetahs/113fbf2203ccef57.jpg  \n",
            "  inflating: dataset_directory/images/Cheetahs/1140e3015190cfeb.jpg  \n",
            "  inflating: dataset_directory/images/Cheetahs/11c270e6589dce6e.jpg  \n",
            "  inflating: dataset_directory/images/Cheetahs/12271a9ed07dc28e.jpg  \n",
            "  inflating: dataset_directory/images/Cheetahs/135b67b72eb7bb47.jpg  \n",
            "  inflating: dataset_directory/images/Cheetahs/13626a8bd4c27b49.jpg  \n",
            "  inflating: dataset_directory/images/Cheetahs/13cec8f6c995afba.jpg  \n",
            "  inflating: dataset_directory/images/Cheetahs/150bf6ac5d17ed58.jpg  \n",
            "  inflating: dataset_directory/images/Cheetahs/177a51628b923b71.jpg  \n",
            "  inflating: dataset_directory/images/Cheetahs/1bea54a4c02d2829.jpg  \n",
            "  inflating: dataset_directory/images/Cheetahs/1da9b32b6e25e64c.jpg  \n",
            "  inflating: dataset_directory/images/Cheetahs/1ebe26a6abe51106.jpg  \n",
            "  inflating: dataset_directory/images/Cheetahs/215389b1cbbca9db.jpg  \n",
            "  inflating: dataset_directory/images/Cheetahs/223fc16f8023cf96.jpg  \n",
            "  inflating: dataset_directory/images/Cheetahs/23ab0e17849b7d7d.jpg  \n",
            "  inflating: dataset_directory/images/Cheetahs/2546b57e18682a68.jpg  \n",
            "  inflating: dataset_directory/images/Cheetahs/281b8d0a1d540fd1.jpg  \n",
            "  inflating: dataset_directory/images/Cheetahs/2a782f57d7ce6efc.jpg  \n",
            "  inflating: dataset_directory/images/Cheetahs/2f6bb1f322b6d58a.jpg  \n",
            "  inflating: dataset_directory/images/Cheetahs/2fd0d44cf194d16c.jpg  \n",
            "  inflating: dataset_directory/images/Cheetahs/3054d68c25d49d54.jpg  \n",
            "  inflating: dataset_directory/images/Cheetahs/320ab39486917b11.jpg  \n",
            "  inflating: dataset_directory/images/Cheetahs/341bedaae1e7ad89.jpg  \n",
            "  inflating: dataset_directory/images/Cheetahs/3ac48c2576b04de9.jpg  \n",
            "  inflating: dataset_directory/images/Cheetahs/3df29b974a3f12fa.jpg  \n",
            "  inflating: dataset_directory/images/Cheetahs/3f11b18d2f35089a.jpg  \n",
            "  inflating: dataset_directory/images/Cheetahs/4201c8c35efbfb2a.jpg  \n",
            "  inflating: dataset_directory/images/Cheetahs/4a15bd602934d7aa.jpg  \n",
            "  inflating: dataset_directory/images/Cheetahs/4d5ff3bad0444108.jpg  \n",
            "  inflating: dataset_directory/images/Cheetahs/519587ae1f0b5160.jpg  \n",
            "  inflating: dataset_directory/images/Cheetahs/5233078010f25f0c.jpg  \n",
            "  inflating: dataset_directory/images/Cheetahs/52b64d96fc0647e8.jpg  \n",
            "  inflating: dataset_directory/images/Cheetahs/601c4f42bfb9c50d.jpg  \n",
            "  inflating: dataset_directory/images/Cheetahs/6795bb2c553f4981.jpg  \n",
            "  inflating: dataset_directory/images/Cheetahs/6d613ea1b58411f1.jpg  \n",
            "  inflating: dataset_directory/images/Cheetahs/75ea322880cfcc3a.jpg  \n",
            "  inflating: dataset_directory/images/Cheetahs/767e3c2968ff1890.jpg  \n",
            "  inflating: dataset_directory/images/Cheetahs/775f869903916081.jpg  \n",
            "  inflating: dataset_directory/images/Cheetahs/784940fed90cccc2.jpg  \n",
            "  inflating: dataset_directory/images/Cheetahs/7f33de86429cef7f.jpg  \n",
            "  inflating: dataset_directory/images/Cheetahs/8b48ed579956d124.jpg  \n",
            "  inflating: dataset_directory/images/Cheetahs/8f34ab7a9b7a8f9b.jpg  \n",
            "  inflating: dataset_directory/images/Cheetahs/9a470427f0a875d2.jpg  \n",
            "  inflating: dataset_directory/images/Cheetahs/9d6b7b5bb7d5efcd.jpg  \n",
            "  inflating: dataset_directory/images/Cheetahs/a9be4e0ac3ff7f4e.jpg  \n",
            "  inflating: dataset_directory/images/Cheetahs/b10d508caab7ce0b.jpg  \n",
            "  inflating: dataset_directory/images/Cheetahs/b2dda5f3f0bdad53.jpg  \n",
            "  inflating: dataset_directory/images/Cheetahs/b3505d83a2993d2d.jpg  \n",
            "  inflating: dataset_directory/images/Cheetahs/b3d2f85dee085875.jpg  \n",
            "  inflating: dataset_directory/images/Cheetahs/c041a3ef0923aad5.jpg  \n",
            "  inflating: dataset_directory/images/Cheetahs/c351170c56ae37fb.jpg  \n",
            "  inflating: dataset_directory/images/Cheetahs/c65aae5dd1d75984.jpg  \n",
            "  inflating: dataset_directory/images/Cheetahs/c8f2e212394ed401.jpg  \n",
            "  inflating: dataset_directory/images/Cheetahs/db21d2f3774862b0.jpg  \n",
            "  inflating: dataset_directory/images/Cheetahs/dd1dddc3ed720109.jpg  \n",
            "  inflating: dataset_directory/images/Cheetahs/e85bed03d0ae1055.jpg  \n",
            "  inflating: dataset_directory/images/Cheetahs/ebd1867dacf535c7.jpg  \n",
            "  inflating: dataset_directory/images/Cheetahs/ec8a63ad5f8cb70b.jpg  \n",
            "  inflating: dataset_directory/images/Cheetahs/ed51aa4321f10a21.jpg  \n",
            "  inflating: dataset_directory/images/Cheetahs/fff9461861633cd1.jpg  \n",
            "  inflating: dataset_directory/images/Lions/0005dcb871947109.jpg  \n",
            "  inflating: dataset_directory/images/Lions/00076a1ba8912d87.jpg  \n",
            "  inflating: dataset_directory/images/Lions/00082f7d340d2883.jpg  \n",
            "  inflating: dataset_directory/images/Lions/000b4ad7e2dbed61.jpg  \n",
            "  inflating: dataset_directory/images/Lions/0017218b3f99aef7.jpg  \n",
            "  inflating: dataset_directory/images/Lions/002b54a615993dca.jpg  \n",
            "  inflating: dataset_directory/images/Lions/002c2d9952ea0b75.jpg  \n",
            "  inflating: dataset_directory/images/Lions/003d62f84395408f.jpg  \n",
            "  inflating: dataset_directory/images/Lions/003ff467d787984e.jpg  \n",
            "  inflating: dataset_directory/images/Lions/0054521c7ff56e05.jpg  \n",
            "  inflating: dataset_directory/images/Lions/00659b5ea7f16836.jpg  \n",
            "  inflating: dataset_directory/images/Lions/006a69cecb56c6b4.jpg  \n",
            "  inflating: dataset_directory/images/Lions/0086c462d6a43b30.jpg  \n",
            "  inflating: dataset_directory/images/Lions/0099aeca2bc9c585.jpg  \n",
            "  inflating: dataset_directory/images/Lions/00ad4439a6573080.jpg  \n",
            "  inflating: dataset_directory/images/Lions/00c5ba7d4683eddd.jpg  \n",
            "  inflating: dataset_directory/images/Lions/00fac52924506248.jpg  \n",
            "  inflating: dataset_directory/images/Lions/017aca08f66253f5.jpg  \n",
            "  inflating: dataset_directory/images/Lions/01dddc577890595e.jpg  \n",
            "  inflating: dataset_directory/images/Lions/027b71cacc5bf95e.jpg  \n",
            "  inflating: dataset_directory/images/Lions/03a0ceb0342e6ef9.jpg  \n",
            "  inflating: dataset_directory/images/Lions/046a01240ac36aa2.jpg  \n",
            "  inflating: dataset_directory/images/Lions/0568d569fd07c96c.jpg  \n",
            "  inflating: dataset_directory/images/Lions/05dcb92ec07ac597.jpg  \n",
            "  inflating: dataset_directory/images/Lions/06370304ca3a4de9.jpg  \n",
            "  inflating: dataset_directory/images/Lions/06c269f657184270.jpg  \n",
            "  inflating: dataset_directory/images/Lions/082dc957e408ba17.jpg  \n",
            "  inflating: dataset_directory/images/Lions/0920d7dbdc425032.jpg  \n",
            "  inflating: dataset_directory/images/Lions/0a819239f85ddf93.jpg  \n",
            "  inflating: dataset_directory/images/Lions/0a8857458ae8e01e.jpg  \n",
            "  inflating: dataset_directory/images/Lions/0b02f67b6934b3a9.jpg  \n",
            "  inflating: dataset_directory/images/Lions/0c6d0c1a263244b9.jpg  \n",
            "  inflating: dataset_directory/images/Lions/0f0e1c3f75d2a442.jpg  \n",
            "  inflating: dataset_directory/images/Lions/10737ee53398f08a.jpg  \n",
            "  inflating: dataset_directory/images/Lions/10d90f1cd4900d68.jpg  \n",
            "  inflating: dataset_directory/images/Lions/1112002524c043b1.jpg  \n",
            "  inflating: dataset_directory/images/Lions/13e2acb33f29b384.jpg  \n",
            "  inflating: dataset_directory/images/Lions/18322c4182d99007.jpg  \n",
            "  inflating: dataset_directory/images/Lions/1b755120ca2f6cba.jpg  \n",
            "  inflating: dataset_directory/images/Lions/1c2136ae9f7c9223.jpg  \n",
            "  inflating: dataset_directory/images/Lions/1e65eb17460379e9.jpg  \n",
            "  inflating: dataset_directory/images/Lions/2224360ced682d66.jpg  \n",
            "  inflating: dataset_directory/images/Lions/2240d64fa24a7c97.jpg  \n",
            "  inflating: dataset_directory/images/Lions/22e23ccc9ce7b458.jpg  \n",
            "  inflating: dataset_directory/images/Lions/24e547f22e53e668.jpg  \n",
            "  inflating: dataset_directory/images/Lions/26d8d961177e64e3.jpg  \n",
            "  inflating: dataset_directory/images/Lions/388a91732c5f45f0.jpg  \n",
            "  inflating: dataset_directory/images/Lions/3bc3f1339b345d32.jpg  \n",
            "  inflating: dataset_directory/images/Lions/3ecd471337f864e4.jpg  \n",
            "  inflating: dataset_directory/images/Lions/3f6785f2b8f2c4c8.jpg  \n",
            "  inflating: dataset_directory/images/Lions/40419da466d5e018.jpg  \n",
            "  inflating: dataset_directory/images/Lions/430fd1bf11e8576c.jpg  \n",
            "  inflating: dataset_directory/images/Lions/4352b19e155bd4ed.jpg  \n",
            "  inflating: dataset_directory/images/Lions/509b768aa44dd931.jpg  \n",
            "  inflating: dataset_directory/images/Lions/526af4a635970b26.jpg  \n",
            "  inflating: dataset_directory/images/Lions/556031e5e4881e59.jpg  \n",
            "  inflating: dataset_directory/images/Lions/5bdd1c48fa8220ee.jpg  \n",
            "  inflating: dataset_directory/images/Lions/68a732857cdc6d8e.jpg  \n",
            "  inflating: dataset_directory/images/Lions/68bf461dd7b96ade.jpg  \n",
            "  inflating: dataset_directory/images/Lions/691ec9943cac126b.jpg  \n",
            "  inflating: dataset_directory/images/Lions/70116560e280ac2c.jpg  \n",
            "  inflating: dataset_directory/images/Lions/82226edbe5ca8874.jpg  \n",
            "  inflating: dataset_directory/images/Lions/8459035ec5737355.jpg  \n",
            "  inflating: dataset_directory/images/Lions/84fea0403c89c288.jpg  \n",
            "  inflating: dataset_directory/images/Lions/87c3f099efb2eff9.jpg  \n",
            "  inflating: dataset_directory/images/Lions/89b1f0cdfe608678.jpg  \n",
            "  inflating: dataset_directory/images/Lions/91c7305af51a297c.jpg  \n",
            "  inflating: dataset_directory/images/Lions/93a37bb83b4994f3.jpg  \n",
            "  inflating: dataset_directory/images/Lions/995789c14fbde1c0.jpg  \n",
            "  inflating: dataset_directory/images/Lions/9a8ba5c4717c153a.jpg  \n",
            "  inflating: dataset_directory/images/Lions/9b91ad0cc4a42193.jpg  \n",
            "  inflating: dataset_directory/images/Lions/9dce5e78464d1889.jpg  \n",
            "  inflating: dataset_directory/images/Lions/9e914b54d40d8800.jpg  \n",
            "  inflating: dataset_directory/images/Lions/a8aca8797ef17da2.jpg  \n",
            "  inflating: dataset_directory/images/Lions/aa3c7c46a34dadd5.jpg  \n",
            "  inflating: dataset_directory/images/Lions/adfdaaeb0e86ac94.jpg  \n",
            "  inflating: dataset_directory/images/Lions/b173e4d977493582.jpg  \n",
            "  inflating: dataset_directory/images/Lions/b1c0565f938bd9a7.jpg  \n",
            "  inflating: dataset_directory/images/Lions/b2915ebd9ce1dbf9.jpg  \n",
            "  inflating: dataset_directory/images/Lions/b551ce86336e1f38.jpg  \n",
            "  inflating: dataset_directory/images/Lions/b981809efbc0f948.jpg  \n",
            "  inflating: dataset_directory/images/Lions/c248190804433af6.jpg  \n",
            "  inflating: dataset_directory/images/Lions/c24e6cc6c56d9bf2.jpg  \n",
            "  inflating: dataset_directory/images/Lions/c48af09db98b16e2.jpg  \n",
            "  inflating: dataset_directory/images/Lions/c4aeb4f3632823f0.jpg  \n",
            "  inflating: dataset_directory/images/Lions/c583b0a77ebc4249.jpg  \n",
            "  inflating: dataset_directory/images/Lions/c60eec6c2fd32c18.jpg  \n",
            "  inflating: dataset_directory/images/Lions/cb51952707012387.jpg  \n",
            "  inflating: dataset_directory/images/Lions/ccea45f05d866cd6.jpg  \n",
            "  inflating: dataset_directory/images/Lions/d153aaa9667d658a.jpg  \n",
            "  inflating: dataset_directory/images/Lions/d35eb436350a6c04.jpg  \n",
            "  inflating: dataset_directory/images/Lions/d98cdfe22eb405d8.jpg  \n",
            "  inflating: dataset_directory/images/Lions/db3c6efce3109e80.jpg  \n",
            "  inflating: dataset_directory/images/Lions/e58cc34f71331452.jpg  \n",
            "  inflating: dataset_directory/images/Lions/e830bd6011902b40.jpg  \n",
            "  inflating: dataset_directory/images/Lions/e8c4adb3a073997c.jpg  \n",
            "  inflating: dataset_directory/images/Lions/eab5a653e7bc2c95.jpg  \n",
            "  inflating: dataset_directory/images/Lions/eb226814a3585764.jpg  \n",
            "  inflating: dataset_directory/images/Lions/eb551b1c169fe188.jpg  \n",
            "  inflating: dataset_directory/images/Lions/f7bef9767d3d1596.jpg  \n"
          ]
        }
      ]
    },
    {
      "cell_type": "code",
      "source": [
        "!unzip lions-or-cheetahs-image-classification.zip -d lion_cheetah_data"
      ],
      "metadata": {
        "colab": {
          "base_uri": "https://localhost:8080/"
        },
        "id": "lV3nSr-9tmX6",
        "outputId": "e04cd85f-bad0-4274-cd1c-845716a378f2"
      },
      "execution_count": 4,
      "outputs": [
        {
          "output_type": "stream",
          "name": "stdout",
          "text": [
            "Archive:  lions-or-cheetahs-image-classification.zip\n",
            "  inflating: lion_cheetah_data/images/Cheetahs/0052cb267268c59e.jpg  \n",
            "  inflating: lion_cheetah_data/images/Cheetahs/00707659aba29334.jpg  \n",
            "  inflating: lion_cheetah_data/images/Cheetahs/007f9ffc01c7b106.jpg  \n",
            "  inflating: lion_cheetah_data/images/Cheetahs/00bb45a8568a3474.jpg  \n",
            "  inflating: lion_cheetah_data/images/Cheetahs/00c8d36882dd6d37.jpg  \n",
            "  inflating: lion_cheetah_data/images/Cheetahs/00d100b0231b60e6.jpg  \n",
            "  inflating: lion_cheetah_data/images/Cheetahs/00d9eb862ba3dfc6.jpg  \n",
            "  inflating: lion_cheetah_data/images/Cheetahs/012f5ecbf49e1da0.jpg  \n",
            "  inflating: lion_cheetah_data/images/Cheetahs/01750ba1a197e3ad.jpg  \n",
            "  inflating: lion_cheetah_data/images/Cheetahs/01d688c043bdbfbb.jpg  \n",
            "  inflating: lion_cheetah_data/images/Cheetahs/0230496e4a8ed917.jpg  \n",
            "  inflating: lion_cheetah_data/images/Cheetahs/02871f24d5abe59c.jpg  \n",
            "  inflating: lion_cheetah_data/images/Cheetahs/029b39c0b65ebeb3.jpg  \n",
            "  inflating: lion_cheetah_data/images/Cheetahs/02a0439923768403.jpg  \n",
            "  inflating: lion_cheetah_data/images/Cheetahs/02a5846a35629f1d.jpg  \n",
            "  inflating: lion_cheetah_data/images/Cheetahs/02b086c4e96396f6.jpg  \n",
            "  inflating: lion_cheetah_data/images/Cheetahs/02dd8dd4344b04a7.jpg  \n",
            "  inflating: lion_cheetah_data/images/Cheetahs/0321448f2848ab99.jpg  \n",
            "  inflating: lion_cheetah_data/images/Cheetahs/038182259bcc5bc0.jpg  \n",
            "  inflating: lion_cheetah_data/images/Cheetahs/039d20705ddc6162.jpg  \n",
            "  inflating: lion_cheetah_data/images/Cheetahs/03c7118d468d94aa.jpg  \n",
            "  inflating: lion_cheetah_data/images/Cheetahs/03e4a856df44695a.jpg  \n",
            "  inflating: lion_cheetah_data/images/Cheetahs/03f680447efaccfe.jpg  \n",
            "  inflating: lion_cheetah_data/images/Cheetahs/048b18e2e692a424.jpg  \n",
            "  inflating: lion_cheetah_data/images/Cheetahs/049fc60b9efd187b.jpg  \n",
            "  inflating: lion_cheetah_data/images/Cheetahs/055dbbcca8626dbb.jpg  \n",
            "  inflating: lion_cheetah_data/images/Cheetahs/05632fadcb5e1e9c.jpg  \n",
            "  inflating: lion_cheetah_data/images/Cheetahs/06434b4d5989df37.jpg  \n",
            "  inflating: lion_cheetah_data/images/Cheetahs/07642e275bb2b869.jpg  \n",
            "  inflating: lion_cheetah_data/images/Cheetahs/07b7a0704a9a543b.jpg  \n",
            "  inflating: lion_cheetah_data/images/Cheetahs/08108fb36d20a11d.jpg  \n",
            "  inflating: lion_cheetah_data/images/Cheetahs/09017fd0f60f309a.jpg  \n",
            "  inflating: lion_cheetah_data/images/Cheetahs/09ead945be525356.jpg  \n",
            "  inflating: lion_cheetah_data/images/Cheetahs/0ae4f7841c26ba0d.jpg  \n",
            "  inflating: lion_cheetah_data/images/Cheetahs/0c20fa69621a2e6c.jpg  \n",
            "  inflating: lion_cheetah_data/images/Cheetahs/0c61b8d86a3e0889.jpg  \n",
            "  inflating: lion_cheetah_data/images/Cheetahs/0c6e90e19f2b2bbc.jpg  \n",
            "  inflating: lion_cheetah_data/images/Cheetahs/0db6601682a368e8.jpg  \n",
            "  inflating: lion_cheetah_data/images/Cheetahs/0fb021bac7207533.jpg  \n",
            "  inflating: lion_cheetah_data/images/Cheetahs/11377ee99115ffff.jpg  \n",
            "  inflating: lion_cheetah_data/images/Cheetahs/113fbf2203ccef57.jpg  \n",
            "  inflating: lion_cheetah_data/images/Cheetahs/1140e3015190cfeb.jpg  \n",
            "  inflating: lion_cheetah_data/images/Cheetahs/11c270e6589dce6e.jpg  \n",
            "  inflating: lion_cheetah_data/images/Cheetahs/12271a9ed07dc28e.jpg  \n",
            "  inflating: lion_cheetah_data/images/Cheetahs/135b67b72eb7bb47.jpg  \n",
            "  inflating: lion_cheetah_data/images/Cheetahs/13626a8bd4c27b49.jpg  \n",
            "  inflating: lion_cheetah_data/images/Cheetahs/13cec8f6c995afba.jpg  \n",
            "  inflating: lion_cheetah_data/images/Cheetahs/150bf6ac5d17ed58.jpg  \n",
            "  inflating: lion_cheetah_data/images/Cheetahs/177a51628b923b71.jpg  \n",
            "  inflating: lion_cheetah_data/images/Cheetahs/1bea54a4c02d2829.jpg  \n",
            "  inflating: lion_cheetah_data/images/Cheetahs/1da9b32b6e25e64c.jpg  \n",
            "  inflating: lion_cheetah_data/images/Cheetahs/1ebe26a6abe51106.jpg  \n",
            "  inflating: lion_cheetah_data/images/Cheetahs/215389b1cbbca9db.jpg  \n",
            "  inflating: lion_cheetah_data/images/Cheetahs/223fc16f8023cf96.jpg  \n",
            "  inflating: lion_cheetah_data/images/Cheetahs/23ab0e17849b7d7d.jpg  \n",
            "  inflating: lion_cheetah_data/images/Cheetahs/2546b57e18682a68.jpg  \n",
            "  inflating: lion_cheetah_data/images/Cheetahs/281b8d0a1d540fd1.jpg  \n",
            "  inflating: lion_cheetah_data/images/Cheetahs/2a782f57d7ce6efc.jpg  \n",
            "  inflating: lion_cheetah_data/images/Cheetahs/2f6bb1f322b6d58a.jpg  \n",
            "  inflating: lion_cheetah_data/images/Cheetahs/2fd0d44cf194d16c.jpg  \n",
            "  inflating: lion_cheetah_data/images/Cheetahs/3054d68c25d49d54.jpg  \n",
            "  inflating: lion_cheetah_data/images/Cheetahs/320ab39486917b11.jpg  \n",
            "  inflating: lion_cheetah_data/images/Cheetahs/341bedaae1e7ad89.jpg  \n",
            "  inflating: lion_cheetah_data/images/Cheetahs/3ac48c2576b04de9.jpg  \n",
            "  inflating: lion_cheetah_data/images/Cheetahs/3df29b974a3f12fa.jpg  \n",
            "  inflating: lion_cheetah_data/images/Cheetahs/3f11b18d2f35089a.jpg  \n",
            "  inflating: lion_cheetah_data/images/Cheetahs/4201c8c35efbfb2a.jpg  \n",
            "  inflating: lion_cheetah_data/images/Cheetahs/4a15bd602934d7aa.jpg  \n",
            "  inflating: lion_cheetah_data/images/Cheetahs/4d5ff3bad0444108.jpg  \n",
            "  inflating: lion_cheetah_data/images/Cheetahs/519587ae1f0b5160.jpg  \n",
            "  inflating: lion_cheetah_data/images/Cheetahs/5233078010f25f0c.jpg  \n",
            "  inflating: lion_cheetah_data/images/Cheetahs/52b64d96fc0647e8.jpg  \n",
            "  inflating: lion_cheetah_data/images/Cheetahs/601c4f42bfb9c50d.jpg  \n",
            "  inflating: lion_cheetah_data/images/Cheetahs/6795bb2c553f4981.jpg  \n",
            "  inflating: lion_cheetah_data/images/Cheetahs/6d613ea1b58411f1.jpg  \n",
            "  inflating: lion_cheetah_data/images/Cheetahs/75ea322880cfcc3a.jpg  \n",
            "  inflating: lion_cheetah_data/images/Cheetahs/767e3c2968ff1890.jpg  \n",
            "  inflating: lion_cheetah_data/images/Cheetahs/775f869903916081.jpg  \n",
            "  inflating: lion_cheetah_data/images/Cheetahs/784940fed90cccc2.jpg  \n",
            "  inflating: lion_cheetah_data/images/Cheetahs/7f33de86429cef7f.jpg  \n",
            "  inflating: lion_cheetah_data/images/Cheetahs/8b48ed579956d124.jpg  \n",
            "  inflating: lion_cheetah_data/images/Cheetahs/8f34ab7a9b7a8f9b.jpg  \n",
            "  inflating: lion_cheetah_data/images/Cheetahs/9a470427f0a875d2.jpg  \n",
            "  inflating: lion_cheetah_data/images/Cheetahs/9d6b7b5bb7d5efcd.jpg  \n",
            "  inflating: lion_cheetah_data/images/Cheetahs/a9be4e0ac3ff7f4e.jpg  \n",
            "  inflating: lion_cheetah_data/images/Cheetahs/b10d508caab7ce0b.jpg  \n",
            "  inflating: lion_cheetah_data/images/Cheetahs/b2dda5f3f0bdad53.jpg  \n",
            "  inflating: lion_cheetah_data/images/Cheetahs/b3505d83a2993d2d.jpg  \n",
            "  inflating: lion_cheetah_data/images/Cheetahs/b3d2f85dee085875.jpg  \n",
            "  inflating: lion_cheetah_data/images/Cheetahs/c041a3ef0923aad5.jpg  \n",
            "  inflating: lion_cheetah_data/images/Cheetahs/c351170c56ae37fb.jpg  \n",
            "  inflating: lion_cheetah_data/images/Cheetahs/c65aae5dd1d75984.jpg  \n",
            "  inflating: lion_cheetah_data/images/Cheetahs/c8f2e212394ed401.jpg  \n",
            "  inflating: lion_cheetah_data/images/Cheetahs/db21d2f3774862b0.jpg  \n",
            "  inflating: lion_cheetah_data/images/Cheetahs/dd1dddc3ed720109.jpg  \n",
            "  inflating: lion_cheetah_data/images/Cheetahs/e85bed03d0ae1055.jpg  \n",
            "  inflating: lion_cheetah_data/images/Cheetahs/ebd1867dacf535c7.jpg  \n",
            "  inflating: lion_cheetah_data/images/Cheetahs/ec8a63ad5f8cb70b.jpg  \n",
            "  inflating: lion_cheetah_data/images/Cheetahs/ed51aa4321f10a21.jpg  \n",
            "  inflating: lion_cheetah_data/images/Cheetahs/fff9461861633cd1.jpg  \n",
            "  inflating: lion_cheetah_data/images/Lions/0005dcb871947109.jpg  \n",
            "  inflating: lion_cheetah_data/images/Lions/00076a1ba8912d87.jpg  \n",
            "  inflating: lion_cheetah_data/images/Lions/00082f7d340d2883.jpg  \n",
            "  inflating: lion_cheetah_data/images/Lions/000b4ad7e2dbed61.jpg  \n",
            "  inflating: lion_cheetah_data/images/Lions/0017218b3f99aef7.jpg  \n",
            "  inflating: lion_cheetah_data/images/Lions/002b54a615993dca.jpg  \n",
            "  inflating: lion_cheetah_data/images/Lions/002c2d9952ea0b75.jpg  \n",
            "  inflating: lion_cheetah_data/images/Lions/003d62f84395408f.jpg  \n",
            "  inflating: lion_cheetah_data/images/Lions/003ff467d787984e.jpg  \n",
            "  inflating: lion_cheetah_data/images/Lions/0054521c7ff56e05.jpg  \n",
            "  inflating: lion_cheetah_data/images/Lions/00659b5ea7f16836.jpg  \n",
            "  inflating: lion_cheetah_data/images/Lions/006a69cecb56c6b4.jpg  \n",
            "  inflating: lion_cheetah_data/images/Lions/0086c462d6a43b30.jpg  \n",
            "  inflating: lion_cheetah_data/images/Lions/0099aeca2bc9c585.jpg  \n",
            "  inflating: lion_cheetah_data/images/Lions/00ad4439a6573080.jpg  \n",
            "  inflating: lion_cheetah_data/images/Lions/00c5ba7d4683eddd.jpg  \n",
            "  inflating: lion_cheetah_data/images/Lions/00fac52924506248.jpg  \n",
            "  inflating: lion_cheetah_data/images/Lions/017aca08f66253f5.jpg  \n",
            "  inflating: lion_cheetah_data/images/Lions/01dddc577890595e.jpg  \n",
            "  inflating: lion_cheetah_data/images/Lions/027b71cacc5bf95e.jpg  \n",
            "  inflating: lion_cheetah_data/images/Lions/03a0ceb0342e6ef9.jpg  \n",
            "  inflating: lion_cheetah_data/images/Lions/046a01240ac36aa2.jpg  \n",
            "  inflating: lion_cheetah_data/images/Lions/0568d569fd07c96c.jpg  \n",
            "  inflating: lion_cheetah_data/images/Lions/05dcb92ec07ac597.jpg  \n",
            "  inflating: lion_cheetah_data/images/Lions/06370304ca3a4de9.jpg  \n",
            "  inflating: lion_cheetah_data/images/Lions/06c269f657184270.jpg  \n",
            "  inflating: lion_cheetah_data/images/Lions/082dc957e408ba17.jpg  \n",
            "  inflating: lion_cheetah_data/images/Lions/0920d7dbdc425032.jpg  \n",
            "  inflating: lion_cheetah_data/images/Lions/0a819239f85ddf93.jpg  \n",
            "  inflating: lion_cheetah_data/images/Lions/0a8857458ae8e01e.jpg  \n",
            "  inflating: lion_cheetah_data/images/Lions/0b02f67b6934b3a9.jpg  \n",
            "  inflating: lion_cheetah_data/images/Lions/0c6d0c1a263244b9.jpg  \n",
            "  inflating: lion_cheetah_data/images/Lions/0f0e1c3f75d2a442.jpg  \n",
            "  inflating: lion_cheetah_data/images/Lions/10737ee53398f08a.jpg  \n",
            "  inflating: lion_cheetah_data/images/Lions/10d90f1cd4900d68.jpg  \n",
            "  inflating: lion_cheetah_data/images/Lions/1112002524c043b1.jpg  \n",
            "  inflating: lion_cheetah_data/images/Lions/13e2acb33f29b384.jpg  \n",
            "  inflating: lion_cheetah_data/images/Lions/18322c4182d99007.jpg  \n",
            "  inflating: lion_cheetah_data/images/Lions/1b755120ca2f6cba.jpg  \n",
            "  inflating: lion_cheetah_data/images/Lions/1c2136ae9f7c9223.jpg  \n",
            "  inflating: lion_cheetah_data/images/Lions/1e65eb17460379e9.jpg  \n",
            "  inflating: lion_cheetah_data/images/Lions/2224360ced682d66.jpg  \n",
            "  inflating: lion_cheetah_data/images/Lions/2240d64fa24a7c97.jpg  \n",
            "  inflating: lion_cheetah_data/images/Lions/22e23ccc9ce7b458.jpg  \n",
            "  inflating: lion_cheetah_data/images/Lions/24e547f22e53e668.jpg  \n",
            "  inflating: lion_cheetah_data/images/Lions/26d8d961177e64e3.jpg  \n",
            "  inflating: lion_cheetah_data/images/Lions/388a91732c5f45f0.jpg  \n",
            "  inflating: lion_cheetah_data/images/Lions/3bc3f1339b345d32.jpg  \n",
            "  inflating: lion_cheetah_data/images/Lions/3ecd471337f864e4.jpg  \n",
            "  inflating: lion_cheetah_data/images/Lions/3f6785f2b8f2c4c8.jpg  \n",
            "  inflating: lion_cheetah_data/images/Lions/40419da466d5e018.jpg  \n",
            "  inflating: lion_cheetah_data/images/Lions/430fd1bf11e8576c.jpg  \n",
            "  inflating: lion_cheetah_data/images/Lions/4352b19e155bd4ed.jpg  \n",
            "  inflating: lion_cheetah_data/images/Lions/509b768aa44dd931.jpg  \n",
            "  inflating: lion_cheetah_data/images/Lions/526af4a635970b26.jpg  \n",
            "  inflating: lion_cheetah_data/images/Lions/556031e5e4881e59.jpg  \n",
            "  inflating: lion_cheetah_data/images/Lions/5bdd1c48fa8220ee.jpg  \n",
            "  inflating: lion_cheetah_data/images/Lions/68a732857cdc6d8e.jpg  \n",
            "  inflating: lion_cheetah_data/images/Lions/68bf461dd7b96ade.jpg  \n",
            "  inflating: lion_cheetah_data/images/Lions/691ec9943cac126b.jpg  \n",
            "  inflating: lion_cheetah_data/images/Lions/70116560e280ac2c.jpg  \n",
            "  inflating: lion_cheetah_data/images/Lions/82226edbe5ca8874.jpg  \n",
            "  inflating: lion_cheetah_data/images/Lions/8459035ec5737355.jpg  \n",
            "  inflating: lion_cheetah_data/images/Lions/84fea0403c89c288.jpg  \n",
            "  inflating: lion_cheetah_data/images/Lions/87c3f099efb2eff9.jpg  \n",
            "  inflating: lion_cheetah_data/images/Lions/89b1f0cdfe608678.jpg  \n",
            "  inflating: lion_cheetah_data/images/Lions/91c7305af51a297c.jpg  \n",
            "  inflating: lion_cheetah_data/images/Lions/93a37bb83b4994f3.jpg  \n",
            "  inflating: lion_cheetah_data/images/Lions/995789c14fbde1c0.jpg  \n",
            "  inflating: lion_cheetah_data/images/Lions/9a8ba5c4717c153a.jpg  \n",
            "  inflating: lion_cheetah_data/images/Lions/9b91ad0cc4a42193.jpg  \n",
            "  inflating: lion_cheetah_data/images/Lions/9dce5e78464d1889.jpg  \n",
            "  inflating: lion_cheetah_data/images/Lions/9e914b54d40d8800.jpg  \n",
            "  inflating: lion_cheetah_data/images/Lions/a8aca8797ef17da2.jpg  \n",
            "  inflating: lion_cheetah_data/images/Lions/aa3c7c46a34dadd5.jpg  \n",
            "  inflating: lion_cheetah_data/images/Lions/adfdaaeb0e86ac94.jpg  \n",
            "  inflating: lion_cheetah_data/images/Lions/b173e4d977493582.jpg  \n",
            "  inflating: lion_cheetah_data/images/Lions/b1c0565f938bd9a7.jpg  \n",
            "  inflating: lion_cheetah_data/images/Lions/b2915ebd9ce1dbf9.jpg  \n",
            "  inflating: lion_cheetah_data/images/Lions/b551ce86336e1f38.jpg  \n",
            "  inflating: lion_cheetah_data/images/Lions/b981809efbc0f948.jpg  \n",
            "  inflating: lion_cheetah_data/images/Lions/c248190804433af6.jpg  \n",
            "  inflating: lion_cheetah_data/images/Lions/c24e6cc6c56d9bf2.jpg  \n",
            "  inflating: lion_cheetah_data/images/Lions/c48af09db98b16e2.jpg  \n",
            "  inflating: lion_cheetah_data/images/Lions/c4aeb4f3632823f0.jpg  \n",
            "  inflating: lion_cheetah_data/images/Lions/c583b0a77ebc4249.jpg  \n",
            "  inflating: lion_cheetah_data/images/Lions/c60eec6c2fd32c18.jpg  \n",
            "  inflating: lion_cheetah_data/images/Lions/cb51952707012387.jpg  \n",
            "  inflating: lion_cheetah_data/images/Lions/ccea45f05d866cd6.jpg  \n",
            "  inflating: lion_cheetah_data/images/Lions/d153aaa9667d658a.jpg  \n",
            "  inflating: lion_cheetah_data/images/Lions/d35eb436350a6c04.jpg  \n",
            "  inflating: lion_cheetah_data/images/Lions/d98cdfe22eb405d8.jpg  \n",
            "  inflating: lion_cheetah_data/images/Lions/db3c6efce3109e80.jpg  \n",
            "  inflating: lion_cheetah_data/images/Lions/e58cc34f71331452.jpg  \n",
            "  inflating: lion_cheetah_data/images/Lions/e830bd6011902b40.jpg  \n",
            "  inflating: lion_cheetah_data/images/Lions/e8c4adb3a073997c.jpg  \n",
            "  inflating: lion_cheetah_data/images/Lions/eab5a653e7bc2c95.jpg  \n",
            "  inflating: lion_cheetah_data/images/Lions/eb226814a3585764.jpg  \n",
            "  inflating: lion_cheetah_data/images/Lions/eb551b1c169fe188.jpg  \n",
            "  inflating: lion_cheetah_data/images/Lions/f7bef9767d3d1596.jpg  \n"
          ]
        }
      ]
    },
    {
      "cell_type": "code",
      "source": [
        "import tensorflow as tf\n",
        "from tensorflow.keras.preprocessing.image import ImageDataGenerator\n",
        "from tensorflow.keras.models import Sequential\n",
        "from tensorflow.keras.layers import Conv2D, MaxPooling2D, Flatten, Dense\n",
        "from tensorflow.keras.applications import VGG16\n",
        "from tensorflow.keras.optimizers import Adam\n",
        "from tensorflow.keras.callbacks import EarlyStopping, ReduceLROnPlateau\n",
        "import matplotlib.pyplot as plt"
      ],
      "metadata": {
        "id": "9ZvAYRz5t7ha"
      },
      "execution_count": 42,
      "outputs": []
    },
    {
      "cell_type": "code",
      "source": [
        "path = '/content/lion_cheetah_data/images'"
      ],
      "metadata": {
        "id": "N7hohTWiuLXZ"
      },
      "execution_count": 43,
      "outputs": []
    },
    {
      "cell_type": "code",
      "source": [
        "import os"
      ],
      "metadata": {
        "id": "0JvO7UwfuZih"
      },
      "execution_count": 44,
      "outputs": []
    },
    {
      "cell_type": "code",
      "source": [
        "kategori = os.listdir(path)\n",
        "kategori"
      ],
      "metadata": {
        "colab": {
          "base_uri": "https://localhost:8080/"
        },
        "id": "iWrOrgPbube9",
        "outputId": "a293fe38-34d0-48a8-b518-3e005f4a77d2"
      },
      "execution_count": 45,
      "outputs": [
        {
          "output_type": "execute_result",
          "data": {
            "text/plain": [
              "['Cheetahs', 'Lions']"
            ]
          },
          "metadata": {},
          "execution_count": 45
        }
      ]
    },
    {
      "cell_type": "markdown",
      "source": [
        "# Mengatur path dataset menjadi 3 train, val, test\n"
      ],
      "metadata": {
        "id": "wm5k-hkT5_3I"
      }
    },
    {
      "cell_type": "code",
      "source": [
        "train_dir = '/content/lion_cheetah_data/images'  # Ganti dengan path sesuai dengan direktori train\n",
        "validation_dir = '/content/lion_cheetah_data/images'  # Ganti dengan path sesuai dengan direktori validation\n",
        "test_dir = '/content/lion_cheetah_data/images'  # Ganti dengan path sesuai dengan direktori test"
      ],
      "metadata": {
        "id": "AUihNzem03bM"
      },
      "execution_count": 46,
      "outputs": []
    },
    {
      "cell_type": "markdown",
      "source": [
        "# Menggunakan ImageDataGenerator untuk memuat serta melakukan augmentasi pada data"
      ],
      "metadata": {
        "id": "aRmJotNP6N1a"
      }
    },
    {
      "cell_type": "code",
      "source": [
        "train_datagen = ImageDataGenerator(\n",
        "    rescale=1./255,\n",
        "    rotation_range=20,\n",
        "    width_shift_range=0.2,\n",
        "    height_shift_range=0.2,\n",
        "    shear_range=0.2,\n",
        "    zoom_range=0.2,\n",
        "    horizontal_flip=True,\n",
        "    fill_mode='nearest'\n",
        ")"
      ],
      "metadata": {
        "id": "6BU0JmjF1FCz"
      },
      "execution_count": 47,
      "outputs": []
    },
    {
      "cell_type": "code",
      "source": [
        "validation_datagen = ImageDataGenerator(rescale=1./255)\n",
        "test_datagen = ImageDataGenerator(rescale=1./255)"
      ],
      "metadata": {
        "id": "V7tqDRB71HwS"
      },
      "execution_count": 48,
      "outputs": []
    },
    {
      "cell_type": "markdown",
      "source": [
        "# Split dataset menjadi train, val, dan test"
      ],
      "metadata": {
        "id": "bXpZ4nP26VPz"
      }
    },
    {
      "cell_type": "markdown",
      "source": [
        "Data Train"
      ],
      "metadata": {
        "id": "hbT6280T7X8C"
      }
    },
    {
      "cell_type": "code",
      "source": [
        "train_generator = train_datagen.flow_from_directory(\n",
        "    train_dir,\n",
        "    target_size=(150, 150),\n",
        "    batch_size=32,\n",
        "    class_mode='binary'\n",
        ")"
      ],
      "metadata": {
        "colab": {
          "base_uri": "https://localhost:8080/"
        },
        "id": "zP2PPoWG1KRj",
        "outputId": "c7db0b7a-626f-4968-e5d3-4cfa32680785"
      },
      "execution_count": 49,
      "outputs": [
        {
          "output_type": "stream",
          "name": "stdout",
          "text": [
            "Found 200 images belonging to 2 classes.\n"
          ]
        }
      ]
    },
    {
      "cell_type": "markdown",
      "source": [
        "Data Val"
      ],
      "metadata": {
        "id": "dQBc3Lvn7bQ5"
      }
    },
    {
      "cell_type": "code",
      "source": [
        "validation_generator = validation_datagen.flow_from_directory(\n",
        "    validation_dir,\n",
        "    target_size=(150, 150),\n",
        "    batch_size=32,\n",
        "    class_mode='binary'\n",
        ")"
      ],
      "metadata": {
        "colab": {
          "base_uri": "https://localhost:8080/"
        },
        "id": "eRnYZTUc1NMc",
        "outputId": "13ed3f36-edb2-46e9-b1ec-f35aaf3a3401"
      },
      "execution_count": 50,
      "outputs": [
        {
          "output_type": "stream",
          "name": "stdout",
          "text": [
            "Found 200 images belonging to 2 classes.\n"
          ]
        }
      ]
    },
    {
      "cell_type": "markdown",
      "source": [
        "Data Test"
      ],
      "metadata": {
        "id": "sc1UpQVY7dGH"
      }
    },
    {
      "cell_type": "code",
      "source": [
        "test_generator = test_datagen.flow_from_directory(\n",
        "    test_dir,\n",
        "    target_size=(150, 150),\n",
        "    batch_size=32,\n",
        "    class_mode='binary'\n",
        ")"
      ],
      "metadata": {
        "colab": {
          "base_uri": "https://localhost:8080/"
        },
        "id": "Pq4PyaVf1P5S",
        "outputId": "0c8eb172-ece1-46ac-97c4-272308839cf6"
      },
      "execution_count": 51,
      "outputs": [
        {
          "output_type": "stream",
          "name": "stdout",
          "text": [
            "Found 200 images belonging to 2 classes.\n"
          ]
        }
      ]
    },
    {
      "cell_type": "markdown",
      "source": [
        "# Membuat model sequential"
      ],
      "metadata": {
        "id": "su9RzZhZ6bvx"
      }
    },
    {
      "cell_type": "code",
      "source": [
        "model = Sequential()"
      ],
      "metadata": {
        "id": "b6XI4ShJ1Wjb"
      },
      "execution_count": 52,
      "outputs": []
    },
    {
      "cell_type": "markdown",
      "source": [
        "# Menggunakan pre-trained model VGG16"
      ],
      "metadata": {
        "id": "RGe6DwBu6i16"
      }
    },
    {
      "cell_type": "code",
      "source": [
        "\n",
        "base_model = VGG16(include_top=False, weights='imagenet', input_shape=(150, 150, 3))\n",
        "base_model.trainable = False\n",
        "\n",
        "model.add(base_model)\n",
        "model.add(Flatten())\n",
        "model.add(Dense(256, activation='relu'))\n",
        "model.add(Dense(1, activation='sigmoid'))"
      ],
      "metadata": {
        "id": "TDAbKxIv1ZJs"
      },
      "execution_count": 53,
      "outputs": []
    },
    {
      "cell_type": "markdown",
      "source": [
        "# Menggunakan optimizer, loss, dan metrics"
      ],
      "metadata": {
        "id": "Leyj7INi6qxR"
      }
    },
    {
      "cell_type": "code",
      "source": [
        "model.compile(optimizer=Adam(lr=0.0001), loss='binary_crossentropy', metrics=['accuracy'])"
      ],
      "metadata": {
        "colab": {
          "base_uri": "https://localhost:8080/"
        },
        "id": "kpoRxTH21cks",
        "outputId": "0e4fe06a-7032-4fb2-d23c-eb4341cd1418"
      },
      "execution_count": 54,
      "outputs": [
        {
          "output_type": "stream",
          "name": "stderr",
          "text": [
            "WARNING:absl:`lr` is deprecated in Keras optimizer, please use `learning_rate` or use the legacy optimizer, e.g.,tf.keras.optimizers.legacy.Adam.\n"
          ]
        }
      ]
    },
    {
      "cell_type": "markdown",
      "source": [
        "# Callbacks"
      ],
      "metadata": {
        "id": "P_Kqtblt6tq6"
      }
    },
    {
      "cell_type": "code",
      "source": [
        "early_stopping = EarlyStopping(patience=5, restore_best_weights=True)\n",
        "reduce_lr = ReduceLROnPlateau(factor=0.1, patience=3)"
      ],
      "metadata": {
        "id": "-fPo7meS1fp8"
      },
      "execution_count": 55,
      "outputs": []
    },
    {
      "cell_type": "markdown",
      "source": [
        "# Latih Model"
      ],
      "metadata": {
        "id": "kg3BVvSY6wk5"
      }
    },
    {
      "cell_type": "code",
      "source": [
        "history = model.fit(\n",
        "    train_generator,\n",
        "    epochs=50,\n",
        "    validation_data=validation_generator,\n",
        "    callbacks=[early_stopping, reduce_lr]\n",
        ")"
      ],
      "metadata": {
        "colab": {
          "base_uri": "https://localhost:8080/"
        },
        "id": "er_iuwdi1h3M",
        "outputId": "53b680df-1f12-43ab-cc87-10466203dc34"
      },
      "execution_count": 56,
      "outputs": [
        {
          "output_type": "stream",
          "name": "stdout",
          "text": [
            "Epoch 1/50\n",
            "7/7 [==============================] - 9s 846ms/step - loss: 1.2376 - accuracy: 0.5100 - val_loss: 0.6055 - val_accuracy: 0.6500 - lr: 0.0010\n",
            "Epoch 2/50\n",
            "7/7 [==============================] - 4s 669ms/step - loss: 0.7706 - accuracy: 0.5500 - val_loss: 0.5244 - val_accuracy: 0.7300 - lr: 0.0010\n",
            "Epoch 3/50\n",
            "7/7 [==============================] - 5s 688ms/step - loss: 0.5100 - accuracy: 0.7500 - val_loss: 0.4371 - val_accuracy: 0.8050 - lr: 0.0010\n",
            "Epoch 4/50\n",
            "7/7 [==============================] - 5s 736ms/step - loss: 0.4560 - accuracy: 0.7700 - val_loss: 0.4400 - val_accuracy: 0.7900 - lr: 0.0010\n",
            "Epoch 5/50\n",
            "7/7 [==============================] - 4s 655ms/step - loss: 0.4511 - accuracy: 0.7900 - val_loss: 0.3393 - val_accuracy: 0.8750 - lr: 0.0010\n",
            "Epoch 6/50\n",
            "7/7 [==============================] - 5s 802ms/step - loss: 0.3590 - accuracy: 0.8350 - val_loss: 0.3206 - val_accuracy: 0.8900 - lr: 0.0010\n",
            "Epoch 7/50\n",
            "7/7 [==============================] - 4s 649ms/step - loss: 0.3876 - accuracy: 0.8250 - val_loss: 0.2923 - val_accuracy: 0.9000 - lr: 0.0010\n",
            "Epoch 8/50\n",
            "7/7 [==============================] - 5s 709ms/step - loss: 0.3839 - accuracy: 0.8350 - val_loss: 0.2781 - val_accuracy: 0.8800 - lr: 0.0010\n",
            "Epoch 9/50\n",
            "7/7 [==============================] - 4s 713ms/step - loss: 0.3837 - accuracy: 0.8250 - val_loss: 0.3021 - val_accuracy: 0.8500 - lr: 0.0010\n",
            "Epoch 10/50\n",
            "7/7 [==============================] - 5s 803ms/step - loss: 0.3515 - accuracy: 0.8600 - val_loss: 0.2530 - val_accuracy: 0.8900 - lr: 0.0010\n",
            "Epoch 11/50\n",
            "7/7 [==============================] - 4s 643ms/step - loss: 0.3307 - accuracy: 0.8650 - val_loss: 0.2204 - val_accuracy: 0.9250 - lr: 0.0010\n",
            "Epoch 12/50\n",
            "7/7 [==============================] - 4s 661ms/step - loss: 0.3108 - accuracy: 0.8450 - val_loss: 0.2761 - val_accuracy: 0.8700 - lr: 0.0010\n",
            "Epoch 13/50\n",
            "7/7 [==============================] - 5s 790ms/step - loss: 0.4023 - accuracy: 0.8300 - val_loss: 0.2033 - val_accuracy: 0.9150 - lr: 0.0010\n",
            "Epoch 14/50\n",
            "7/7 [==============================] - 4s 656ms/step - loss: 0.2900 - accuracy: 0.8700 - val_loss: 0.2023 - val_accuracy: 0.9400 - lr: 0.0010\n",
            "Epoch 15/50\n",
            "7/7 [==============================] - 5s 785ms/step - loss: 0.2564 - accuracy: 0.8750 - val_loss: 0.2160 - val_accuracy: 0.9000 - lr: 0.0010\n",
            "Epoch 16/50\n",
            "7/7 [==============================] - 4s 655ms/step - loss: 0.2937 - accuracy: 0.8700 - val_loss: 0.1821 - val_accuracy: 0.9450 - lr: 0.0010\n",
            "Epoch 17/50\n",
            "7/7 [==============================] - 5s 823ms/step - loss: 0.2293 - accuracy: 0.9150 - val_loss: 0.1692 - val_accuracy: 0.9450 - lr: 0.0010\n",
            "Epoch 18/50\n",
            "7/7 [==============================] - 5s 786ms/step - loss: 0.2481 - accuracy: 0.9000 - val_loss: 0.1826 - val_accuracy: 0.9100 - lr: 0.0010\n",
            "Epoch 19/50\n",
            "7/7 [==============================] - 4s 653ms/step - loss: 0.2464 - accuracy: 0.9150 - val_loss: 0.1835 - val_accuracy: 0.9050 - lr: 0.0010\n",
            "Epoch 20/50\n",
            "7/7 [==============================] - 4s 641ms/step - loss: 0.2672 - accuracy: 0.8750 - val_loss: 0.2596 - val_accuracy: 0.8800 - lr: 0.0010\n",
            "Epoch 21/50\n",
            "7/7 [==============================] - 5s 820ms/step - loss: 0.3089 - accuracy: 0.8550 - val_loss: 0.1494 - val_accuracy: 0.9600 - lr: 1.0000e-04\n",
            "Epoch 22/50\n",
            "7/7 [==============================] - 4s 671ms/step - loss: 0.2331 - accuracy: 0.9050 - val_loss: 0.1504 - val_accuracy: 0.9500 - lr: 1.0000e-04\n",
            "Epoch 23/50\n",
            "7/7 [==============================] - 5s 791ms/step - loss: 0.2234 - accuracy: 0.9150 - val_loss: 0.1470 - val_accuracy: 0.9600 - lr: 1.0000e-04\n",
            "Epoch 24/50\n",
            "7/7 [==============================] - 4s 662ms/step - loss: 0.2314 - accuracy: 0.9100 - val_loss: 0.1383 - val_accuracy: 0.9700 - lr: 1.0000e-04\n",
            "Epoch 25/50\n",
            "7/7 [==============================] - 4s 655ms/step - loss: 0.1970 - accuracy: 0.9100 - val_loss: 0.1379 - val_accuracy: 0.9700 - lr: 1.0000e-04\n",
            "Epoch 26/50\n",
            "7/7 [==============================] - 5s 865ms/step - loss: 0.1864 - accuracy: 0.9400 - val_loss: 0.1371 - val_accuracy: 0.9650 - lr: 1.0000e-04\n",
            "Epoch 27/50\n",
            "7/7 [==============================] - 4s 664ms/step - loss: 0.1927 - accuracy: 0.9250 - val_loss: 0.1353 - val_accuracy: 0.9700 - lr: 1.0000e-04\n",
            "Epoch 28/50\n",
            "7/7 [==============================] - 5s 779ms/step - loss: 0.2194 - accuracy: 0.9200 - val_loss: 0.1354 - val_accuracy: 0.9700 - lr: 1.0000e-04\n",
            "Epoch 29/50\n",
            "7/7 [==============================] - 4s 658ms/step - loss: 0.2401 - accuracy: 0.8900 - val_loss: 0.1346 - val_accuracy: 0.9750 - lr: 1.0000e-04\n",
            "Epoch 30/50\n",
            "7/7 [==============================] - 5s 836ms/step - loss: 0.1907 - accuracy: 0.9300 - val_loss: 0.1310 - val_accuracy: 0.9800 - lr: 1.0000e-04\n",
            "Epoch 31/50\n",
            "7/7 [==============================] - 4s 657ms/step - loss: 0.2265 - accuracy: 0.9200 - val_loss: 0.1329 - val_accuracy: 0.9650 - lr: 1.0000e-04\n",
            "Epoch 32/50\n",
            "7/7 [==============================] - 5s 740ms/step - loss: 0.2043 - accuracy: 0.9300 - val_loss: 0.1288 - val_accuracy: 0.9800 - lr: 1.0000e-04\n",
            "Epoch 33/50\n",
            "7/7 [==============================] - 5s 668ms/step - loss: 0.2021 - accuracy: 0.9200 - val_loss: 0.1303 - val_accuracy: 0.9700 - lr: 1.0000e-04\n",
            "Epoch 34/50\n",
            "7/7 [==============================] - 4s 668ms/step - loss: 0.1913 - accuracy: 0.9250 - val_loss: 0.1272 - val_accuracy: 0.9800 - lr: 1.0000e-04\n",
            "Epoch 35/50\n",
            "7/7 [==============================] - 5s 805ms/step - loss: 0.2265 - accuracy: 0.8800 - val_loss: 0.1283 - val_accuracy: 0.9700 - lr: 1.0000e-04\n",
            "Epoch 36/50\n",
            "7/7 [==============================] - 4s 707ms/step - loss: 0.2278 - accuracy: 0.9150 - val_loss: 0.1279 - val_accuracy: 0.9700 - lr: 1.0000e-04\n",
            "Epoch 37/50\n",
            "7/7 [==============================] - 5s 766ms/step - loss: 0.1823 - accuracy: 0.9450 - val_loss: 0.1284 - val_accuracy: 0.9650 - lr: 1.0000e-04\n",
            "Epoch 38/50\n",
            "7/7 [==============================] - 5s 710ms/step - loss: 0.1872 - accuracy: 0.9350 - val_loss: 0.1275 - val_accuracy: 0.9750 - lr: 1.0000e-05\n",
            "Epoch 39/50\n",
            "7/7 [==============================] - 5s 768ms/step - loss: 0.1874 - accuracy: 0.9400 - val_loss: 0.1263 - val_accuracy: 0.9750 - lr: 1.0000e-05\n",
            "Epoch 40/50\n",
            "7/7 [==============================] - 5s 822ms/step - loss: 0.1987 - accuracy: 0.9400 - val_loss: 0.1256 - val_accuracy: 0.9750 - lr: 1.0000e-05\n",
            "Epoch 41/50\n",
            "7/7 [==============================] - 5s 803ms/step - loss: 0.2067 - accuracy: 0.9350 - val_loss: 0.1251 - val_accuracy: 0.9800 - lr: 1.0000e-05\n",
            "Epoch 42/50\n",
            "7/7 [==============================] - 4s 668ms/step - loss: 0.2263 - accuracy: 0.9350 - val_loss: 0.1248 - val_accuracy: 0.9800 - lr: 1.0000e-05\n",
            "Epoch 43/50\n",
            "7/7 [==============================] - 5s 827ms/step - loss: 0.1950 - accuracy: 0.9200 - val_loss: 0.1247 - val_accuracy: 0.9800 - lr: 1.0000e-05\n",
            "Epoch 44/50\n",
            "7/7 [==============================] - 4s 674ms/step - loss: 0.1945 - accuracy: 0.9250 - val_loss: 0.1245 - val_accuracy: 0.9800 - lr: 1.0000e-05\n",
            "Epoch 45/50\n",
            "7/7 [==============================] - 5s 733ms/step - loss: 0.1724 - accuracy: 0.9450 - val_loss: 0.1244 - val_accuracy: 0.9800 - lr: 1.0000e-05\n",
            "Epoch 46/50\n",
            "7/7 [==============================] - 5s 662ms/step - loss: 0.1758 - accuracy: 0.9500 - val_loss: 0.1244 - val_accuracy: 0.9800 - lr: 1.0000e-05\n",
            "Epoch 47/50\n",
            "7/7 [==============================] - 4s 657ms/step - loss: 0.1946 - accuracy: 0.9350 - val_loss: 0.1242 - val_accuracy: 0.9800 - lr: 1.0000e-05\n",
            "Epoch 48/50\n",
            "7/7 [==============================] - 5s 812ms/step - loss: 0.1657 - accuracy: 0.9500 - val_loss: 0.1240 - val_accuracy: 0.9800 - lr: 1.0000e-05\n",
            "Epoch 49/50\n",
            "7/7 [==============================] - 5s 704ms/step - loss: 0.1832 - accuracy: 0.9450 - val_loss: 0.1239 - val_accuracy: 0.9800 - lr: 1.0000e-05\n",
            "Epoch 50/50\n",
            "7/7 [==============================] - 5s 659ms/step - loss: 0.1922 - accuracy: 0.9350 - val_loss: 0.1237 - val_accuracy: 0.9800 - lr: 1.0000e-05\n"
          ]
        }
      ]
    },
    {
      "cell_type": "markdown",
      "source": [
        "# Evaluasi model"
      ],
      "metadata": {
        "id": "s6GfpuoK7OMI"
      }
    },
    {
      "cell_type": "code",
      "source": [
        "test_loss, test_accuracy = model.evaluate(test_generator)\n",
        "print(f'Akurasi pada data test: {test_accuracy:.2f}')"
      ],
      "metadata": {
        "colab": {
          "base_uri": "https://localhost:8080/"
        },
        "id": "_JxtkSKc2tRs",
        "outputId": "90b86041-5449-4dc9-f59f-afa3b85bcc46"
      },
      "execution_count": 57,
      "outputs": [
        {
          "output_type": "stream",
          "name": "stdout",
          "text": [
            "7/7 [==============================] - 2s 239ms/step - loss: 0.1237 - accuracy: 0.9800\n",
            "Akurasi pada data test: 0.98\n"
          ]
        }
      ]
    },
    {
      "cell_type": "markdown",
      "source": [
        "# Membuat grafik pergerakan metrik Accuracy dan Loss terhadap epoch pada Training dan Validation"
      ],
      "metadata": {
        "id": "vpTYDMzA65mq"
      }
    },
    {
      "cell_type": "code",
      "source": [
        "acc = history.history['accuracy']\n",
        "val_acc = history.history['val_accuracy']\n",
        "loss = history.history['loss']\n",
        "val_loss = history.history['val_loss']\n",
        "\n",
        "epochs = range(1, len(acc) + 1)"
      ],
      "metadata": {
        "id": "rGkJ-6H621f0"
      },
      "execution_count": 73,
      "outputs": []
    },
    {
      "cell_type": "markdown",
      "source": [
        "# Grafik Accuracy"
      ],
      "metadata": {
        "id": "PH7zPnrR7EXh"
      }
    },
    {
      "cell_type": "code",
      "source": [
        "plt.figure(figsize=(14, 5))\n",
        "plt.subplot(1, 2, 1)\n",
        "plt.plot(epochs, acc, 'r', label='Train')\n",
        "plt.plot(epochs, val_acc, 'b', label='Val')\n",
        "plt.title('Model Accuracy')\n",
        "plt.legend()"
      ],
      "metadata": {
        "colab": {
          "base_uri": "https://localhost:8080/",
          "height": 485
        },
        "id": "J0dsd6bu23rz",
        "outputId": "1ca095c2-463e-47e1-afed-60a68a0dfe79"
      },
      "execution_count": 78,
      "outputs": [
        {
          "output_type": "execute_result",
          "data": {
            "text/plain": [
              "<matplotlib.legend.Legend at 0x7947671aa7d0>"
            ]
          },
          "metadata": {},
          "execution_count": 78
        },
        {
          "output_type": "display_data",
          "data": {
            "text/plain": [
              "<Figure size 1400x500 with 1 Axes>"
            ],
            "image/png": "[encoded data removed]"
          },
          "metadata": {}
        }
      ]
    },
    {
      "cell_type": "markdown",
      "source": [
        "# Grafik Loss\n"
      ],
      "metadata": {
        "id": "X9Z8EoZn7HoI"
      }
    },
    {
      "cell_type": "code",
      "source": [
        "plt.figure(figsize=(14, 5))\n",
        "plt.subplot(1, 2, 2)\n",
        "plt.plot(epochs, loss, 'r', label='Train')\n",
        "plt.plot(epochs, val_loss, 'b', label='Val')\n",
        "plt.title('Model Loss')\n",
        "plt.legend()\n",
        "\n",
        "plt.show()"
      ],
      "metadata": {
        "colab": {
          "base_uri": "https://localhost:8080/",
          "height": 468
        },
        "id": "J-wcMVZw26dD",
        "outputId": "2f8eb7a7-0ff5-4843-954d-d8e9440536e7"
      },
      "execution_count": 79,
      "outputs": [
        {
          "output_type": "display_data",
          "data": {
            "text/plain": [
              "<Figure size 1400x500 with 1 Axes>"
            ],
            "image/png": "[encoded data removed]"
          },
          "metadata": {}
        }
      ]
    },
    {
      "cell_type": "code",
      "source": [
        "# test_x, test_y = validation_generator.__getitem__(2)\n",
        "\n",
        "# label = train_generator.class_indices\n",
        "# label = dict((v, k) for k, v in label.items())\n",
        "\n",
        "# # Buat prediksi\n",
        "# preds = model.predict(test_x)\n",
        "\n",
        "# # Tampilkan gambar\n",
        "# plt.figure(figsize=(16, 16))\n",
        "# for i in range(16):\n",
        "#     plt.subplot(4, 4, i + 1)\n",
        "#     plt.title('Prediksi:%s / Aktual:%s' % (label[int(round(preds[i][0]))], label[int(test_y[i])]))\n",
        "#     plt.imshow(test_x[i])\n"
      ],
      "metadata": {
        "id": "uEEyGErk3Y0D"
      },
      "execution_count": 80,
      "outputs": []
    }
  ]
}