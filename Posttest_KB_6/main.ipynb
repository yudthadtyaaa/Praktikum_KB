{
 "cells": [
  {
   "cell_type": "code",
   "execution_count": 86,
   "metadata": {},
   "outputs": [],
   "source": [
    "import pandas as pd\n",
    "import numpy as np\n",
    "import tensorflow as tf\n",
    "from sklearn.model_selection import train_test_split\n",
    "from sklearn.preprocessing import StandardScaler\n",
    "from tensorflow import keras\n",
    "from sklearn.metrics import r2_score, accuracy_score\n",
    "import matplotlib.pyplot as plt"
   ]
  },
  {
   "cell_type": "code",
   "execution_count": 87,
   "metadata": {},
   "outputs": [],
   "source": [
    "df = pd.read_csv(\"WineQT.csv\")"
   ]
  },
  {
   "cell_type": "markdown",
   "metadata": {},
   "source": [
    "## Memisahkan Atribut X dan y"
   ]
  },
  {
   "cell_type": "code",
   "execution_count": 88,
   "metadata": {},
   "outputs": [],
   "source": [
    "X = df.drop(['quality', 'Id'], axis=1)\n",
    "y = df['quality']"
   ]
  },
  {
   "cell_type": "markdown",
   "metadata": {},
   "source": [
    "## Split Dataset Menjadi train dan set"
   ]
  },
  {
   "cell_type": "code",
   "execution_count": 89,
   "metadata": {},
   "outputs": [],
   "source": [
    "# Split dataset menjadi data latih dan data uji\n",
    "X_train, X_test, y_train, y_test = train_test_split(X, y, test_size=0.2, random_state=42)"
   ]
  },
  {
   "cell_type": "markdown",
   "metadata": {},
   "source": [
    "## Melakukan Preprocessing dengan Normalisasi"
   ]
  },
  {
   "cell_type": "code",
   "execution_count": 90,
   "metadata": {},
   "outputs": [],
   "source": [
    "scaler = StandardScaler()\n",
    "X_train = scaler.fit_transform(X_train)\n",
    "X_test = scaler.transform(X_test)"
   ]
  },
  {
   "cell_type": "markdown",
   "metadata": {},
   "source": [
    "## Membuat Model Dengan Sequential Model"
   ]
  },
  {
   "cell_type": "markdown",
   "metadata": {},
   "source": [
    "### Dan Output Layer Target Saya Adalah Kontinue -> Menggunakan Linear"
   ]
  },
  {
   "cell_type": "code",
   "execution_count": 91,
   "metadata": {},
   "outputs": [],
   "source": [
    "model = tf.keras.Sequential([\n",
    "    tf.keras.layers.Dense(units=64, activation='relu', input_shape=(X_train.shape[1],)),\n",
    "    tf.keras.layers.Dense(units=32, activation='relu'),\n",
    "    tf.keras.layers.Dense(units=16, activation='relu'),\n",
    "    tf.keras.layers.Dense(units=8, activation='relu'),\n",
    "    tf.keras.layers.Dense(units=4, activation='relu'),\n",
    "    tf.keras.layers.Dense(units=1, activation='linear') \n",
    "])"
   ]
  },
  {
   "cell_type": "markdown",
   "metadata": {},
   "source": [
    "## Compile Model Dengan Adam, MAE "
   ]
  },
  {
   "cell_type": "code",
   "execution_count": 92,
   "metadata": {},
   "outputs": [],
   "source": [
    "model.compile(optimizer='adam', loss='mean_squared_error', metrics=['mean_squared_error'])"
   ]
  },
  {
   "cell_type": "markdown",
   "metadata": {},
   "source": [
    "## Latih Model "
   ]
  },
  {
   "cell_type": "code",
   "execution_count": 93,
   "metadata": {},
   "outputs": [
    {
     "name": "stdout",
     "output_type": "stream",
     "text": [
      "Epoch 1/100\n"
     ]
    },
    {
     "name": "stdout",
     "output_type": "stream",
     "text": [
      "29/29 [==============================] - 1s 8ms/step - loss: 30.9368 - mean_squared_error: 30.9368 - val_loss: 27.2002 - val_mean_squared_error: 27.2002\n",
      "Epoch 2/100\n",
      "29/29 [==============================] - 0s 3ms/step - loss: 19.7876 - mean_squared_error: 19.7876 - val_loss: 8.2085 - val_mean_squared_error: 8.2085\n",
      "Epoch 3/100\n",
      "29/29 [==============================] - 0s 2ms/step - loss: 4.5987 - mean_squared_error: 4.5987 - val_loss: 3.1107 - val_mean_squared_error: 3.1107\n",
      "Epoch 4/100\n",
      "29/29 [==============================] - 0s 2ms/step - loss: 2.2940 - mean_squared_error: 2.2940 - val_loss: 2.3178 - val_mean_squared_error: 2.3178\n",
      "Epoch 5/100\n",
      "29/29 [==============================] - 0s 2ms/step - loss: 1.7654 - mean_squared_error: 1.7654 - val_loss: 2.0188 - val_mean_squared_error: 2.0188\n",
      "Epoch 6/100\n",
      "29/29 [==============================] - 0s 2ms/step - loss: 1.5578 - mean_squared_error: 1.5578 - val_loss: 1.8114 - val_mean_squared_error: 1.8114\n",
      "Epoch 7/100\n",
      "29/29 [==============================] - 0s 2ms/step - loss: 1.3983 - mean_squared_error: 1.3983 - val_loss: 1.6609 - val_mean_squared_error: 1.6609\n",
      "Epoch 8/100\n",
      "29/29 [==============================] - 0s 2ms/step - loss: 1.2749 - mean_squared_error: 1.2749 - val_loss: 1.5013 - val_mean_squared_error: 1.5013\n",
      "Epoch 9/100\n",
      "29/29 [==============================] - 0s 2ms/step - loss: 1.1873 - mean_squared_error: 1.1873 - val_loss: 1.3875 - val_mean_squared_error: 1.3875\n",
      "Epoch 10/100\n",
      "29/29 [==============================] - 0s 3ms/step - loss: 1.0739 - mean_squared_error: 1.0739 - val_loss: 1.2587 - val_mean_squared_error: 1.2587\n",
      "Epoch 11/100\n",
      "29/29 [==============================] - 0s 3ms/step - loss: 0.9898 - mean_squared_error: 0.9898 - val_loss: 1.1465 - val_mean_squared_error: 1.1465\n",
      "Epoch 12/100\n",
      "29/29 [==============================] - 0s 2ms/step - loss: 0.8959 - mean_squared_error: 0.8959 - val_loss: 1.1135 - val_mean_squared_error: 1.1135\n",
      "Epoch 13/100\n",
      "29/29 [==============================] - 0s 2ms/step - loss: 0.8292 - mean_squared_error: 0.8292 - val_loss: 0.9456 - val_mean_squared_error: 0.9456\n",
      "Epoch 14/100\n",
      "29/29 [==============================] - 0s 2ms/step - loss: 0.7793 - mean_squared_error: 0.7793 - val_loss: 0.9483 - val_mean_squared_error: 0.9483\n",
      "Epoch 15/100\n",
      "29/29 [==============================] - 0s 2ms/step - loss: 0.7286 - mean_squared_error: 0.7286 - val_loss: 0.8314 - val_mean_squared_error: 0.8314\n",
      "Epoch 16/100\n",
      "29/29 [==============================] - 0s 3ms/step - loss: 0.6667 - mean_squared_error: 0.6667 - val_loss: 0.7739 - val_mean_squared_error: 0.7739\n",
      "Epoch 17/100\n",
      "29/29 [==============================] - 0s 2ms/step - loss: 0.6274 - mean_squared_error: 0.6274 - val_loss: 0.7156 - val_mean_squared_error: 0.7156\n",
      "Epoch 18/100\n",
      "29/29 [==============================] - 0s 2ms/step - loss: 0.6004 - mean_squared_error: 0.6004 - val_loss: 0.6577 - val_mean_squared_error: 0.6577\n",
      "Epoch 19/100\n",
      "29/29 [==============================] - 0s 2ms/step - loss: 0.5724 - mean_squared_error: 0.5724 - val_loss: 0.6069 - val_mean_squared_error: 0.6069\n",
      "Epoch 20/100\n",
      "29/29 [==============================] - 0s 3ms/step - loss: 0.5367 - mean_squared_error: 0.5367 - val_loss: 0.5900 - val_mean_squared_error: 0.5900\n",
      "Epoch 21/100\n",
      "29/29 [==============================] - 0s 2ms/step - loss: 0.5122 - mean_squared_error: 0.5122 - val_loss: 0.5871 - val_mean_squared_error: 0.5871\n",
      "Epoch 22/100\n",
      "29/29 [==============================] - 0s 2ms/step - loss: 0.4969 - mean_squared_error: 0.4969 - val_loss: 0.5288 - val_mean_squared_error: 0.5288\n",
      "Epoch 23/100\n",
      "29/29 [==============================] - 0s 2ms/step - loss: 0.4721 - mean_squared_error: 0.4721 - val_loss: 0.5222 - val_mean_squared_error: 0.5222\n",
      "Epoch 24/100\n",
      "29/29 [==============================] - 0s 2ms/step - loss: 0.4555 - mean_squared_error: 0.4555 - val_loss: 0.5190 - val_mean_squared_error: 0.5190\n",
      "Epoch 25/100\n",
      "29/29 [==============================] - 0s 2ms/step - loss: 0.4627 - mean_squared_error: 0.4627 - val_loss: 0.5091 - val_mean_squared_error: 0.5091\n",
      "Epoch 26/100\n",
      "29/29 [==============================] - 0s 2ms/step - loss: 0.4278 - mean_squared_error: 0.4278 - val_loss: 0.4898 - val_mean_squared_error: 0.4898\n",
      "Epoch 27/100\n",
      "29/29 [==============================] - 0s 2ms/step - loss: 0.4214 - mean_squared_error: 0.4214 - val_loss: 0.4966 - val_mean_squared_error: 0.4966\n",
      "Epoch 28/100\n",
      "29/29 [==============================] - 0s 2ms/step - loss: 0.4074 - mean_squared_error: 0.4074 - val_loss: 0.4490 - val_mean_squared_error: 0.4490\n",
      "Epoch 29/100\n",
      "29/29 [==============================] - 0s 2ms/step - loss: 0.3920 - mean_squared_error: 0.3920 - val_loss: 0.5080 - val_mean_squared_error: 0.5080\n",
      "Epoch 30/100\n",
      "29/29 [==============================] - 0s 2ms/step - loss: 0.3927 - mean_squared_error: 0.3927 - val_loss: 0.4510 - val_mean_squared_error: 0.4510\n",
      "Epoch 31/100\n",
      "29/29 [==============================] - 0s 2ms/step - loss: 0.3864 - mean_squared_error: 0.3864 - val_loss: 0.4468 - val_mean_squared_error: 0.4468\n",
      "Epoch 32/100\n",
      "29/29 [==============================] - 0s 2ms/step - loss: 0.3655 - mean_squared_error: 0.3655 - val_loss: 0.4251 - val_mean_squared_error: 0.4251\n",
      "Epoch 33/100\n",
      "29/29 [==============================] - 0s 3ms/step - loss: 0.3755 - mean_squared_error: 0.3755 - val_loss: 0.4414 - val_mean_squared_error: 0.4414\n",
      "Epoch 34/100\n",
      "29/29 [==============================] - 0s 2ms/step - loss: 0.3695 - mean_squared_error: 0.3695 - val_loss: 0.4149 - val_mean_squared_error: 0.4149\n",
      "Epoch 35/100\n",
      "29/29 [==============================] - 0s 2ms/step - loss: 0.3604 - mean_squared_error: 0.3604 - val_loss: 0.4315 - val_mean_squared_error: 0.4315\n",
      "Epoch 36/100\n",
      "29/29 [==============================] - 0s 2ms/step - loss: 0.3494 - mean_squared_error: 0.3494 - val_loss: 0.4175 - val_mean_squared_error: 0.4175\n",
      "Epoch 37/100\n",
      "29/29 [==============================] - 0s 2ms/step - loss: 0.3554 - mean_squared_error: 0.3554 - val_loss: 0.4168 - val_mean_squared_error: 0.4168\n",
      "Epoch 38/100\n",
      "29/29 [==============================] - 0s 2ms/step - loss: 0.3403 - mean_squared_error: 0.3403 - val_loss: 0.4178 - val_mean_squared_error: 0.4178\n",
      "Epoch 39/100\n",
      "29/29 [==============================] - 0s 2ms/step - loss: 0.3470 - mean_squared_error: 0.3470 - val_loss: 0.4145 - val_mean_squared_error: 0.4145\n",
      "Epoch 40/100\n",
      "29/29 [==============================] - 0s 2ms/step - loss: 0.3437 - mean_squared_error: 0.3437 - val_loss: 0.4407 - val_mean_squared_error: 0.4407\n",
      "Epoch 41/100\n",
      "29/29 [==============================] - 0s 2ms/step - loss: 0.3252 - mean_squared_error: 0.3252 - val_loss: 0.4037 - val_mean_squared_error: 0.4037\n",
      "Epoch 42/100\n",
      "29/29 [==============================] - 0s 2ms/step - loss: 0.3181 - mean_squared_error: 0.3181 - val_loss: 0.3981 - val_mean_squared_error: 0.3981\n",
      "Epoch 43/100\n",
      "29/29 [==============================] - 0s 2ms/step - loss: 0.3327 - mean_squared_error: 0.3327 - val_loss: 0.3954 - val_mean_squared_error: 0.3954\n",
      "Epoch 44/100\n",
      "29/29 [==============================] - 0s 2ms/step - loss: 0.3132 - mean_squared_error: 0.3132 - val_loss: 0.4271 - val_mean_squared_error: 0.4271\n",
      "Epoch 45/100\n",
      "29/29 [==============================] - 0s 2ms/step - loss: 0.3158 - mean_squared_error: 0.3158 - val_loss: 0.4225 - val_mean_squared_error: 0.4225\n",
      "Epoch 46/100\n",
      "29/29 [==============================] - 0s 2ms/step - loss: 0.3021 - mean_squared_error: 0.3021 - val_loss: 0.3975 - val_mean_squared_error: 0.3975\n",
      "Epoch 47/100\n",
      "29/29 [==============================] - 0s 2ms/step - loss: 0.3016 - mean_squared_error: 0.3016 - val_loss: 0.3948 - val_mean_squared_error: 0.3948\n",
      "Epoch 48/100\n",
      "29/29 [==============================] - 0s 2ms/step - loss: 0.3099 - mean_squared_error: 0.3099 - val_loss: 0.4150 - val_mean_squared_error: 0.4150\n",
      "Epoch 49/100\n",
      "29/29 [==============================] - 0s 2ms/step - loss: 0.3032 - mean_squared_error: 0.3032 - val_loss: 0.4278 - val_mean_squared_error: 0.4278\n",
      "Epoch 50/100\n",
      "29/29 [==============================] - 0s 2ms/step - loss: 0.3136 - mean_squared_error: 0.3136 - val_loss: 0.3968 - val_mean_squared_error: 0.3968\n",
      "Epoch 51/100\n",
      "29/29 [==============================] - 0s 2ms/step - loss: 0.2981 - mean_squared_error: 0.2981 - val_loss: 0.4554 - val_mean_squared_error: 0.4554\n",
      "Epoch 52/100\n",
      "29/29 [==============================] - 0s 2ms/step - loss: 0.3025 - mean_squared_error: 0.3025 - val_loss: 0.4361 - val_mean_squared_error: 0.4361\n",
      "Epoch 53/100\n",
      "29/29 [==============================] - 0s 2ms/step - loss: 0.2884 - mean_squared_error: 0.2884 - val_loss: 0.3873 - val_mean_squared_error: 0.3873\n",
      "Epoch 54/100\n",
      "29/29 [==============================] - 0s 2ms/step - loss: 0.2806 - mean_squared_error: 0.2806 - val_loss: 0.3826 - val_mean_squared_error: 0.3826\n",
      "Epoch 55/100\n",
      "29/29 [==============================] - 0s 2ms/step - loss: 0.2754 - mean_squared_error: 0.2754 - val_loss: 0.3858 - val_mean_squared_error: 0.3858\n",
      "Epoch 56/100\n",
      "29/29 [==============================] - 0s 2ms/step - loss: 0.2699 - mean_squared_error: 0.2699 - val_loss: 0.3844 - val_mean_squared_error: 0.3844\n",
      "Epoch 57/100\n",
      "29/29 [==============================] - 0s 2ms/step - loss: 0.2674 - mean_squared_error: 0.2674 - val_loss: 0.3925 - val_mean_squared_error: 0.3925\n",
      "Epoch 58/100\n",
      "29/29 [==============================] - 0s 2ms/step - loss: 0.2770 - mean_squared_error: 0.2770 - val_loss: 0.4586 - val_mean_squared_error: 0.4586\n",
      "Epoch 59/100\n",
      "29/29 [==============================] - 0s 2ms/step - loss: 0.2870 - mean_squared_error: 0.2870 - val_loss: 0.4502 - val_mean_squared_error: 0.4502\n",
      "Epoch 60/100\n",
      "29/29 [==============================] - 0s 2ms/step - loss: 0.2619 - mean_squared_error: 0.2619 - val_loss: 0.4117 - val_mean_squared_error: 0.4117\n",
      "Epoch 61/100\n",
      "29/29 [==============================] - 0s 2ms/step - loss: 0.2600 - mean_squared_error: 0.2600 - val_loss: 0.3986 - val_mean_squared_error: 0.3986\n",
      "Epoch 62/100\n",
      "29/29 [==============================] - 0s 2ms/step - loss: 0.2530 - mean_squared_error: 0.2530 - val_loss: 0.3829 - val_mean_squared_error: 0.3829\n",
      "Epoch 63/100\n",
      "29/29 [==============================] - 0s 2ms/step - loss: 0.2530 - mean_squared_error: 0.2530 - val_loss: 0.3831 - val_mean_squared_error: 0.3831\n",
      "Epoch 64/100\n",
      "29/29 [==============================] - 0s 2ms/step - loss: 0.2482 - mean_squared_error: 0.2482 - val_loss: 0.3782 - val_mean_squared_error: 0.3782\n",
      "Epoch 65/100\n",
      "29/29 [==============================] - 0s 2ms/step - loss: 0.2413 - mean_squared_error: 0.2413 - val_loss: 0.3631 - val_mean_squared_error: 0.3631\n",
      "Epoch 66/100\n",
      "29/29 [==============================] - 0s 2ms/step - loss: 0.2522 - mean_squared_error: 0.2522 - val_loss: 0.3769 - val_mean_squared_error: 0.3769\n",
      "Epoch 67/100\n",
      "29/29 [==============================] - 0s 2ms/step - loss: 0.2431 - mean_squared_error: 0.2431 - val_loss: 0.3808 - val_mean_squared_error: 0.3808\n",
      "Epoch 68/100\n",
      "29/29 [==============================] - 0s 1ms/step - loss: 0.2609 - mean_squared_error: 0.2609 - val_loss: 0.3879 - val_mean_squared_error: 0.3879\n",
      "Epoch 69/100\n",
      "29/29 [==============================] - 0s 2ms/step - loss: 0.2351 - mean_squared_error: 0.2351 - val_loss: 0.3658 - val_mean_squared_error: 0.3658\n",
      "Epoch 70/100\n",
      "29/29 [==============================] - 0s 2ms/step - loss: 0.2285 - mean_squared_error: 0.2285 - val_loss: 0.3745 - val_mean_squared_error: 0.3745\n",
      "Epoch 71/100\n",
      "29/29 [==============================] - 0s 2ms/step - loss: 0.2258 - mean_squared_error: 0.2258 - val_loss: 0.3823 - val_mean_squared_error: 0.3823\n",
      "Epoch 72/100\n",
      "29/29 [==============================] - 0s 2ms/step - loss: 0.2332 - mean_squared_error: 0.2332 - val_loss: 0.3706 - val_mean_squared_error: 0.3706\n",
      "Epoch 73/100\n",
      "29/29 [==============================] - 0s 2ms/step - loss: 0.2301 - mean_squared_error: 0.2301 - val_loss: 0.3787 - val_mean_squared_error: 0.3787\n",
      "Epoch 74/100\n",
      "29/29 [==============================] - 0s 2ms/step - loss: 0.2166 - mean_squared_error: 0.2166 - val_loss: 0.3670 - val_mean_squared_error: 0.3670\n",
      "Epoch 75/100\n",
      "29/29 [==============================] - 0s 2ms/step - loss: 0.2099 - mean_squared_error: 0.2099 - val_loss: 0.4034 - val_mean_squared_error: 0.4034\n",
      "Epoch 76/100\n",
      "29/29 [==============================] - 0s 2ms/step - loss: 0.2159 - mean_squared_error: 0.2159 - val_loss: 0.3753 - val_mean_squared_error: 0.3753\n",
      "Epoch 77/100\n",
      "29/29 [==============================] - 0s 2ms/step - loss: 0.2092 - mean_squared_error: 0.2092 - val_loss: 0.3748 - val_mean_squared_error: 0.3748\n",
      "Epoch 78/100\n",
      "29/29 [==============================] - 0s 2ms/step - loss: 0.2094 - mean_squared_error: 0.2094 - val_loss: 0.3790 - val_mean_squared_error: 0.3790\n",
      "Epoch 79/100\n",
      "29/29 [==============================] - 0s 2ms/step - loss: 0.2084 - mean_squared_error: 0.2084 - val_loss: 0.3992 - val_mean_squared_error: 0.3992\n",
      "Epoch 80/100\n",
      "29/29 [==============================] - 0s 2ms/step - loss: 0.2181 - mean_squared_error: 0.2181 - val_loss: 0.3777 - val_mean_squared_error: 0.3777\n",
      "Epoch 81/100\n",
      "29/29 [==============================] - 0s 2ms/step - loss: 0.2074 - mean_squared_error: 0.2074 - val_loss: 0.3860 - val_mean_squared_error: 0.3860\n",
      "Epoch 82/100\n",
      "29/29 [==============================] - 0s 2ms/step - loss: 0.2162 - mean_squared_error: 0.2162 - val_loss: 0.4166 - val_mean_squared_error: 0.4166\n",
      "Epoch 83/100\n",
      "29/29 [==============================] - 0s 2ms/step - loss: 0.2121 - mean_squared_error: 0.2121 - val_loss: 0.4126 - val_mean_squared_error: 0.4126\n",
      "Epoch 84/100\n",
      "29/29 [==============================] - 0s 2ms/step - loss: 0.2036 - mean_squared_error: 0.2036 - val_loss: 0.3801 - val_mean_squared_error: 0.3801\n",
      "Epoch 85/100\n",
      "29/29 [==============================] - 0s 2ms/step - loss: 0.2169 - mean_squared_error: 0.2169 - val_loss: 0.3722 - val_mean_squared_error: 0.3722\n",
      "Epoch 86/100\n",
      "29/29 [==============================] - 0s 2ms/step - loss: 0.1963 - mean_squared_error: 0.1963 - val_loss: 0.3994 - val_mean_squared_error: 0.3994\n",
      "Epoch 87/100\n",
      "29/29 [==============================] - 0s 2ms/step - loss: 0.2067 - mean_squared_error: 0.2067 - val_loss: 0.4206 - val_mean_squared_error: 0.4206\n",
      "Epoch 88/100\n",
      "29/29 [==============================] - 0s 2ms/step - loss: 0.1983 - mean_squared_error: 0.1983 - val_loss: 0.3837 - val_mean_squared_error: 0.3837\n",
      "Epoch 89/100\n",
      "29/29 [==============================] - 0s 2ms/step - loss: 0.1931 - mean_squared_error: 0.1931 - val_loss: 0.3835 - val_mean_squared_error: 0.3835\n",
      "Epoch 90/100\n",
      "29/29 [==============================] - 0s 2ms/step - loss: 0.1835 - mean_squared_error: 0.1835 - val_loss: 0.3971 - val_mean_squared_error: 0.3971\n",
      "Epoch 91/100\n",
      "29/29 [==============================] - 0s 2ms/step - loss: 0.1854 - mean_squared_error: 0.1854 - val_loss: 0.3766 - val_mean_squared_error: 0.3766\n",
      "Epoch 92/100\n",
      "29/29 [==============================] - 0s 2ms/step - loss: 0.1897 - mean_squared_error: 0.1897 - val_loss: 0.4079 - val_mean_squared_error: 0.4079\n",
      "Epoch 93/100\n",
      "29/29 [==============================] - 0s 2ms/step - loss: 0.1817 - mean_squared_error: 0.1817 - val_loss: 0.3790 - val_mean_squared_error: 0.3790\n",
      "Epoch 94/100\n",
      "29/29 [==============================] - 0s 2ms/step - loss: 0.1898 - mean_squared_error: 0.1898 - val_loss: 0.4057 - val_mean_squared_error: 0.4057\n",
      "Epoch 95/100\n",
      "29/29 [==============================] - 0s 2ms/step - loss: 0.1942 - mean_squared_error: 0.1942 - val_loss: 0.4006 - val_mean_squared_error: 0.4006\n",
      "Epoch 96/100\n",
      "29/29 [==============================] - 0s 2ms/step - loss: 0.1943 - mean_squared_error: 0.1943 - val_loss: 0.4157 - val_mean_squared_error: 0.4157\n",
      "Epoch 97/100\n",
      "29/29 [==============================] - 0s 2ms/step - loss: 0.1758 - mean_squared_error: 0.1758 - val_loss: 0.3881 - val_mean_squared_error: 0.3881\n",
      "Epoch 98/100\n",
      "29/29 [==============================] - 0s 2ms/step - loss: 0.1872 - mean_squared_error: 0.1872 - val_loss: 0.3726 - val_mean_squared_error: 0.3726\n",
      "Epoch 99/100\n",
      "29/29 [==============================] - 0s 2ms/step - loss: 0.1697 - mean_squared_error: 0.1697 - val_loss: 0.3801 - val_mean_squared_error: 0.3801\n",
      "Epoch 100/100\n",
      "29/29 [==============================] - 0s 3ms/step - loss: 0.1675 - mean_squared_error: 0.1675 - val_loss: 0.3819 - val_mean_squared_error: 0.3819\n"
     ]
    }
   ],
   "source": [
    "\n",
    "history = model.fit(X_train, y_train, epochs=100, batch_size=32, validation_data=(X_test, y_test))"
   ]
  },
  {
   "cell_type": "markdown",
   "metadata": {},
   "source": [
    "## Evaluasi Model Dengan r2_score"
   ]
  },
  {
   "cell_type": "code",
   "execution_count": 94,
   "metadata": {},
   "outputs": [
    {
     "name": "stdout",
     "output_type": "stream",
     "text": [
      "8/8 [==============================] - 0s 888us/step\n"
     ]
    }
   ],
   "source": [
    "y_pred = model.predict(X_test)\n",
    "r2 = r2_score(y_test, y_pred)"
   ]
  },
  {
   "cell_type": "markdown",
   "metadata": {},
   "source": [
    "## Grafik Loss"
   ]
  },
  {
   "cell_type": "code",
   "execution_count": 95,
   "metadata": {},
   "outputs": [
    {
     "data": {
      "text/plain": [
       "Text(0.5, 1.0, 'Grafik Loss')"
      ]
     },
     "execution_count": 95,
     "metadata": {},
     "output_type": "execute_result"
    },
    {
     "data": {
      "image/png": "[encoded data removed]",
      "text/plain": [
       "<Figure size 1200x600 with 1 Axes>"
      ]
     },
     "metadata": {},
     "output_type": "display_data"
    }
   ],
   "source": [
    "plt.figure(figsize=(12, 6))\n",
    "plt.plot(history.history['loss'], label='Training Loss', color='red')\n",
    "plt.plot(history.history['val_loss'], label='Validation Loss', color='blue')\n",
    "plt.xlabel('Epochs')\n",
    "plt.ylabel('Loss')\n",
    "plt.legend()\n",
    "plt.title('Grafik Loss')"
   ]
  },
  {
   "cell_type": "markdown",
   "metadata": {},
   "source": [
    "## Grafik MAE (ERROR)"
   ]
  },
  {
   "cell_type": "code",
   "execution_count": 96,
   "metadata": {},
   "outputs": [
    {
     "data": {
      "image/png": "[encoded data removed]",
      "text/plain": [
       "<Figure size 1200x600 with 1 Axes>"
      ]
     },
     "metadata": {},
     "output_type": "display_data"
    }
   ],
   "source": [
    "plt.figure(figsize=(12, 6))\n",
    "plt.plot(history.history['mean_squared_error'], label='Training MSE',color=\"red\")\n",
    "plt.plot(history.history['val_mean_squared_error'], label='Validation MSE', color=\"blue\")\n",
    "plt.xlabel('Epochs')\n",
    "plt.ylabel('MSE')\n",
    "plt.legend()\n",
    "plt.title('Grafik Mean Squared Error')\n",
    "plt.show()"
   ]
  },
  {
   "cell_type": "markdown",
   "metadata": {},
   "source": [
    "## Output Nilai dengan R2_SCORE"
   ]
  },
  {
   "cell_type": "code",
   "execution_count": 97,
   "metadata": {},
   "outputs": [
    {
     "name": "stdout",
     "output_type": "stream",
     "text": [
      "R2 Score:  0.31379573136048033\n"
     ]
    }
   ],
   "source": [
    "# Output nilai r2_score\n",
    "print(\"R2 Score: \", r2)"
   ]
  }
 ],
 "metadata": {
  "kernelspec": {
   "display_name": "Python 3",
   "language": "python",
   "name": "python3"
  },
  "language_info": {
   "codemirror_mode": {
    "name": "ipython",
    "version": 3
   },
   "file_extension": ".py",
   "mimetype": "text/x-python",
   "name": "python",
   "nbconvert_exporter": "python",
   "pygments_lexer": "ipython3",
   "version": "3.10.7"
  }
 },
 "nbformat": 4,
 "nbformat_minor": 2
}
