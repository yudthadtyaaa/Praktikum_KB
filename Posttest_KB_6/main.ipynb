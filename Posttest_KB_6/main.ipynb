{
 "cells": [
  {
   "cell_type": "code",
   "execution_count": 199,
   "metadata": {},
   "outputs": [],
   "source": [
    "import pandas as pd\n",
    "import numpy as np\n",
    "import tensorflow as tf\n",
    "from sklearn.model_selection import train_test_split\n",
    "from sklearn.preprocessing import StandardScaler\n",
    "from tensorflow import keras\n",
    "from sklearn.metrics import r2_score, accuracy_score\n",
    "import matplotlib.pyplot as plt"
   ]
  },
  {
   "cell_type": "code",
   "execution_count": 200,
   "metadata": {},
   "outputs": [],
   "source": [
    "df = pd.read_csv(\"WineQT.csv\")"
   ]
  },
  {
   "cell_type": "markdown",
   "metadata": {},
   "source": [
    "## Memisahkan Atribut X dan y"
   ]
  },
  {
   "cell_type": "code",
   "execution_count": 201,
   "metadata": {},
   "outputs": [],
   "source": [
    "X = df.drop(['quality', 'Id'], axis=1)\n",
    "y = df['quality']"
   ]
  },
  {
   "cell_type": "markdown",
   "metadata": {},
   "source": [
    "## Split Dataset Menjadi train dan set"
   ]
  },
  {
   "cell_type": "code",
   "execution_count": 202,
   "metadata": {},
   "outputs": [],
   "source": [
    "# Split dataset menjadi data latih dan data uji\n",
    "X_train, X_test, y_train, y_test = train_test_split(X, y, test_size=0.2, random_state=42)"
   ]
  },
  {
   "cell_type": "markdown",
   "metadata": {},
   "source": [
    "## Melakukan Preprocessing dengan Normalisasi"
   ]
  },
  {
   "cell_type": "code",
   "execution_count": 203,
   "metadata": {},
   "outputs": [],
   "source": [
    "scaler = StandardScaler()\n",
    "X_train = scaler.fit_transform(X_train)\n",
    "X_test = scaler.transform(X_test)"
   ]
  },
  {
   "cell_type": "markdown",
   "metadata": {},
   "source": [
    "## Membuat Model Dengan Sequential Model"
   ]
  },
  {
   "cell_type": "markdown",
   "metadata": {},
   "source": [
    "### Dan Output Layer Target Saya Adalah Kontinue -> Menggunakan Linear"
   ]
  },
  {
   "cell_type": "code",
   "execution_count": 204,
   "metadata": {},
   "outputs": [],
   "source": [
    "model = tf.keras.Sequential([\n",
    "    tf.keras.layers.Dense(units=64, activation='relu', input_shape=(X_train.shape[1],)),\n",
    "    tf.keras.layers.Dense(units=32, activation='relu'),\n",
    "    tf.keras.layers.Dense(units=16, activation='relu'),\n",
    "    tf.keras.layers.Dense(units=8, activation='relu'),\n",
    "    tf.keras.layers.Dense(units=4, activation='relu'),\n",
    "    tf.keras.layers.Dense(units=1, activation='linear') \n",
    "])"
   ]
  },
  {
   "cell_type": "markdown",
   "metadata": {},
   "source": [
    "## Compile Model Dengan Adam, MAE "
   ]
  },
  {
   "cell_type": "code",
   "execution_count": 205,
   "metadata": {},
   "outputs": [],
   "source": [
    "model.compile(optimizer='adam', loss='mean_squared_error', metrics=['mean_squared_error'])"
   ]
  },
  {
   "cell_type": "markdown",
   "metadata": {},
   "source": [
    "## Latih Model "
   ]
  },
  {
   "cell_type": "code",
   "execution_count": 206,
   "metadata": {},
   "outputs": [
    {
     "name": "stdout",
     "output_type": "stream",
     "text": [
      "Epoch 1/150\n"
     ]
    },
    {
     "name": "stdout",
     "output_type": "stream",
     "text": [
      "29/29 [==============================] - 1s 6ms/step - loss: 27.1716 - mean_squared_error: 27.1716 - val_loss: 19.8892 - val_mean_squared_error: 19.8892\n",
      "Epoch 2/150\n",
      "29/29 [==============================] - 0s 2ms/step - loss: 12.0933 - mean_squared_error: 12.0933 - val_loss: 4.5462 - val_mean_squared_error: 4.5462\n",
      "Epoch 3/150\n",
      "29/29 [==============================] - 0s 2ms/step - loss: 3.0715 - mean_squared_error: 3.0715 - val_loss: 2.7683 - val_mean_squared_error: 2.7683\n",
      "Epoch 4/150\n",
      "29/29 [==============================] - 0s 2ms/step - loss: 2.1672 - mean_squared_error: 2.1672 - val_loss: 2.3187 - val_mean_squared_error: 2.3187\n",
      "Epoch 5/150\n",
      "29/29 [==============================] - 0s 2ms/step - loss: 1.8139 - mean_squared_error: 1.8139 - val_loss: 2.0575 - val_mean_squared_error: 2.0575\n",
      "Epoch 6/150\n",
      "29/29 [==============================] - 0s 2ms/step - loss: 1.6134 - mean_squared_error: 1.6134 - val_loss: 1.8271 - val_mean_squared_error: 1.8271\n",
      "Epoch 7/150\n",
      "29/29 [==============================] - 0s 2ms/step - loss: 1.4656 - mean_squared_error: 1.4656 - val_loss: 1.6945 - val_mean_squared_error: 1.6945\n",
      "Epoch 8/150\n",
      "29/29 [==============================] - 0s 2ms/step - loss: 1.3331 - mean_squared_error: 1.3331 - val_loss: 1.5548 - val_mean_squared_error: 1.5548\n",
      "Epoch 9/150\n",
      "29/29 [==============================] - 0s 3ms/step - loss: 1.2258 - mean_squared_error: 1.2258 - val_loss: 1.4096 - val_mean_squared_error: 1.4096\n",
      "Epoch 10/150\n",
      "29/29 [==============================] - 0s 2ms/step - loss: 1.1280 - mean_squared_error: 1.1280 - val_loss: 1.3401 - val_mean_squared_error: 1.3401\n",
      "Epoch 11/150\n",
      "29/29 [==============================] - 0s 3ms/step - loss: 1.0519 - mean_squared_error: 1.0519 - val_loss: 1.1755 - val_mean_squared_error: 1.1755\n",
      "Epoch 12/150\n",
      "29/29 [==============================] - 0s 2ms/step - loss: 0.9889 - mean_squared_error: 0.9889 - val_loss: 1.0826 - val_mean_squared_error: 1.0826\n",
      "Epoch 13/150\n",
      "29/29 [==============================] - 0s 2ms/step - loss: 0.9121 - mean_squared_error: 0.9121 - val_loss: 1.0188 - val_mean_squared_error: 1.0188\n",
      "Epoch 14/150\n",
      "29/29 [==============================] - 0s 2ms/step - loss: 0.8400 - mean_squared_error: 0.8400 - val_loss: 0.9565 - val_mean_squared_error: 0.9565\n",
      "Epoch 15/150\n",
      "29/29 [==============================] - 0s 2ms/step - loss: 0.7970 - mean_squared_error: 0.7970 - val_loss: 0.8806 - val_mean_squared_error: 0.8806\n",
      "Epoch 16/150\n",
      "29/29 [==============================] - 0s 2ms/step - loss: 0.7353 - mean_squared_error: 0.7353 - val_loss: 0.8072 - val_mean_squared_error: 0.8072\n",
      "Epoch 17/150\n",
      "29/29 [==============================] - 0s 2ms/step - loss: 0.6873 - mean_squared_error: 0.6873 - val_loss: 0.7625 - val_mean_squared_error: 0.7625\n",
      "Epoch 18/150\n",
      "29/29 [==============================] - 0s 2ms/step - loss: 0.6433 - mean_squared_error: 0.6433 - val_loss: 0.7173 - val_mean_squared_error: 0.7173\n",
      "Epoch 19/150\n",
      "29/29 [==============================] - 0s 2ms/step - loss: 0.6093 - mean_squared_error: 0.6093 - val_loss: 0.6762 - val_mean_squared_error: 0.6762\n",
      "Epoch 20/150\n",
      "29/29 [==============================] - 0s 2ms/step - loss: 0.5701 - mean_squared_error: 0.5701 - val_loss: 0.6261 - val_mean_squared_error: 0.6261\n",
      "Epoch 21/150\n",
      "29/29 [==============================] - 0s 2ms/step - loss: 0.5487 - mean_squared_error: 0.5487 - val_loss: 0.5889 - val_mean_squared_error: 0.5889\n",
      "Epoch 22/150\n",
      "29/29 [==============================] - 0s 2ms/step - loss: 0.5144 - mean_squared_error: 0.5144 - val_loss: 0.6221 - val_mean_squared_error: 0.6221\n",
      "Epoch 23/150\n",
      "29/29 [==============================] - 0s 3ms/step - loss: 0.4938 - mean_squared_error: 0.4938 - val_loss: 0.5404 - val_mean_squared_error: 0.5404\n",
      "Epoch 24/150\n",
      "29/29 [==============================] - 0s 2ms/step - loss: 0.4765 - mean_squared_error: 0.4765 - val_loss: 0.5256 - val_mean_squared_error: 0.5256\n",
      "Epoch 25/150\n",
      "29/29 [==============================] - 0s 2ms/step - loss: 0.4584 - mean_squared_error: 0.4584 - val_loss: 0.5132 - val_mean_squared_error: 0.5132\n",
      "Epoch 26/150\n",
      "29/29 [==============================] - 0s 2ms/step - loss: 0.4468 - mean_squared_error: 0.4468 - val_loss: 0.4932 - val_mean_squared_error: 0.4932\n",
      "Epoch 27/150\n",
      "29/29 [==============================] - 0s 2ms/step - loss: 0.4355 - mean_squared_error: 0.4355 - val_loss: 0.4836 - val_mean_squared_error: 0.4836\n",
      "Epoch 28/150\n",
      "29/29 [==============================] - 0s 2ms/step - loss: 0.4182 - mean_squared_error: 0.4182 - val_loss: 0.4752 - val_mean_squared_error: 0.4752\n",
      "Epoch 29/150\n",
      "29/29 [==============================] - 0s 2ms/step - loss: 0.4125 - mean_squared_error: 0.4125 - val_loss: 0.4515 - val_mean_squared_error: 0.4515\n",
      "Epoch 30/150\n",
      "29/29 [==============================] - 0s 2ms/step - loss: 0.3918 - mean_squared_error: 0.3918 - val_loss: 0.4440 - val_mean_squared_error: 0.4440\n",
      "Epoch 31/150\n",
      "29/29 [==============================] - 0s 2ms/step - loss: 0.3816 - mean_squared_error: 0.3816 - val_loss: 0.4382 - val_mean_squared_error: 0.4382\n",
      "Epoch 32/150\n",
      "29/29 [==============================] - 0s 3ms/step - loss: 0.3742 - mean_squared_error: 0.3742 - val_loss: 0.4297 - val_mean_squared_error: 0.4297\n",
      "Epoch 33/150\n",
      "29/29 [==============================] - 0s 2ms/step - loss: 0.3799 - mean_squared_error: 0.3799 - val_loss: 0.4370 - val_mean_squared_error: 0.4370\n",
      "Epoch 34/150\n",
      "29/29 [==============================] - 0s 2ms/step - loss: 0.3789 - mean_squared_error: 0.3789 - val_loss: 0.4222 - val_mean_squared_error: 0.4222\n",
      "Epoch 35/150\n",
      "29/29 [==============================] - 0s 2ms/step - loss: 0.3563 - mean_squared_error: 0.3563 - val_loss: 0.4444 - val_mean_squared_error: 0.4444\n",
      "Epoch 36/150\n",
      "29/29 [==============================] - 0s 2ms/step - loss: 0.3677 - mean_squared_error: 0.3677 - val_loss: 0.4094 - val_mean_squared_error: 0.4094\n",
      "Epoch 37/150\n",
      "29/29 [==============================] - 0s 3ms/step - loss: 0.3503 - mean_squared_error: 0.3503 - val_loss: 0.4244 - val_mean_squared_error: 0.4244\n",
      "Epoch 38/150\n",
      "29/29 [==============================] - 0s 2ms/step - loss: 0.3511 - mean_squared_error: 0.3511 - val_loss: 0.4267 - val_mean_squared_error: 0.4267\n",
      "Epoch 39/150\n",
      "29/29 [==============================] - 0s 2ms/step - loss: 0.3581 - mean_squared_error: 0.3581 - val_loss: 0.4068 - val_mean_squared_error: 0.4068\n",
      "Epoch 40/150\n",
      "29/29 [==============================] - 0s 2ms/step - loss: 0.3334 - mean_squared_error: 0.3334 - val_loss: 0.4153 - val_mean_squared_error: 0.4153\n",
      "Epoch 41/150\n",
      "29/29 [==============================] - 0s 2ms/step - loss: 0.3342 - mean_squared_error: 0.3342 - val_loss: 0.3956 - val_mean_squared_error: 0.3956\n",
      "Epoch 42/150\n",
      "29/29 [==============================] - 0s 2ms/step - loss: 0.3289 - mean_squared_error: 0.3289 - val_loss: 0.4019 - val_mean_squared_error: 0.4019\n",
      "Epoch 43/150\n",
      "29/29 [==============================] - 0s 2ms/step - loss: 0.3242 - mean_squared_error: 0.3242 - val_loss: 0.4205 - val_mean_squared_error: 0.4205\n",
      "Epoch 44/150\n",
      "29/29 [==============================] - 0s 2ms/step - loss: 0.3256 - mean_squared_error: 0.3256 - val_loss: 0.4009 - val_mean_squared_error: 0.4009\n",
      "Epoch 45/150\n",
      "29/29 [==============================] - 0s 2ms/step - loss: 0.3190 - mean_squared_error: 0.3190 - val_loss: 0.4074 - val_mean_squared_error: 0.4074\n",
      "Epoch 46/150\n",
      "29/29 [==============================] - 0s 2ms/step - loss: 0.3167 - mean_squared_error: 0.3167 - val_loss: 0.4000 - val_mean_squared_error: 0.4000\n",
      "Epoch 47/150\n",
      "29/29 [==============================] - 0s 2ms/step - loss: 0.3187 - mean_squared_error: 0.3187 - val_loss: 0.4107 - val_mean_squared_error: 0.4107\n",
      "Epoch 48/150\n",
      "29/29 [==============================] - 0s 2ms/step - loss: 0.3154 - mean_squared_error: 0.3154 - val_loss: 0.3911 - val_mean_squared_error: 0.3911\n",
      "Epoch 49/150\n",
      "29/29 [==============================] - 0s 2ms/step - loss: 0.3127 - mean_squared_error: 0.3127 - val_loss: 0.3865 - val_mean_squared_error: 0.3865\n",
      "Epoch 50/150\n",
      "29/29 [==============================] - 0s 2ms/step - loss: 0.3055 - mean_squared_error: 0.3055 - val_loss: 0.4024 - val_mean_squared_error: 0.4024\n",
      "Epoch 51/150\n",
      "29/29 [==============================] - 0s 3ms/step - loss: 0.2919 - mean_squared_error: 0.2919 - val_loss: 0.4069 - val_mean_squared_error: 0.4069\n",
      "Epoch 52/150\n",
      "29/29 [==============================] - 0s 2ms/step - loss: 0.2970 - mean_squared_error: 0.2970 - val_loss: 0.3844 - val_mean_squared_error: 0.3844\n",
      "Epoch 53/150\n",
      "29/29 [==============================] - 0s 2ms/step - loss: 0.2880 - mean_squared_error: 0.2880 - val_loss: 0.4183 - val_mean_squared_error: 0.4183\n",
      "Epoch 54/150\n",
      "29/29 [==============================] - 0s 2ms/step - loss: 0.2995 - mean_squared_error: 0.2995 - val_loss: 0.3830 - val_mean_squared_error: 0.3830\n",
      "Epoch 55/150\n",
      "29/29 [==============================] - 0s 2ms/step - loss: 0.3045 - mean_squared_error: 0.3045 - val_loss: 0.3749 - val_mean_squared_error: 0.3749\n",
      "Epoch 56/150\n",
      "29/29 [==============================] - 0s 2ms/step - loss: 0.2901 - mean_squared_error: 0.2901 - val_loss: 0.3980 - val_mean_squared_error: 0.3980\n",
      "Epoch 57/150\n",
      "29/29 [==============================] - 0s 2ms/step - loss: 0.2904 - mean_squared_error: 0.2904 - val_loss: 0.3781 - val_mean_squared_error: 0.3781\n",
      "Epoch 58/150\n",
      "29/29 [==============================] - 0s 2ms/step - loss: 0.2814 - mean_squared_error: 0.2814 - val_loss: 0.3690 - val_mean_squared_error: 0.3690\n",
      "Epoch 59/150\n",
      "29/29 [==============================] - 0s 2ms/step - loss: 0.2822 - mean_squared_error: 0.2822 - val_loss: 0.3637 - val_mean_squared_error: 0.3637\n",
      "Epoch 60/150\n",
      "29/29 [==============================] - 0s 2ms/step - loss: 0.2736 - mean_squared_error: 0.2736 - val_loss: 0.3672 - val_mean_squared_error: 0.3672\n",
      "Epoch 61/150\n",
      "29/29 [==============================] - 0s 2ms/step - loss: 0.2772 - mean_squared_error: 0.2772 - val_loss: 0.3766 - val_mean_squared_error: 0.3766\n",
      "Epoch 62/150\n",
      "29/29 [==============================] - 0s 1ms/step - loss: 0.2772 - mean_squared_error: 0.2772 - val_loss: 0.3851 - val_mean_squared_error: 0.3851\n",
      "Epoch 63/150\n",
      "29/29 [==============================] - 0s 2ms/step - loss: 0.2839 - mean_squared_error: 0.2839 - val_loss: 0.3788 - val_mean_squared_error: 0.3788\n",
      "Epoch 64/150\n",
      "29/29 [==============================] - 0s 2ms/step - loss: 0.2653 - mean_squared_error: 0.2653 - val_loss: 0.3573 - val_mean_squared_error: 0.3573\n",
      "Epoch 65/150\n",
      "29/29 [==============================] - 0s 3ms/step - loss: 0.2621 - mean_squared_error: 0.2621 - val_loss: 0.3819 - val_mean_squared_error: 0.3819\n",
      "Epoch 66/150\n",
      "29/29 [==============================] - 0s 2ms/step - loss: 0.2575 - mean_squared_error: 0.2575 - val_loss: 0.3626 - val_mean_squared_error: 0.3626\n",
      "Epoch 67/150\n",
      "29/29 [==============================] - 0s 2ms/step - loss: 0.2618 - mean_squared_error: 0.2618 - val_loss: 0.3600 - val_mean_squared_error: 0.3600\n",
      "Epoch 68/150\n",
      "29/29 [==============================] - 0s 2ms/step - loss: 0.2555 - mean_squared_error: 0.2555 - val_loss: 0.3567 - val_mean_squared_error: 0.3567\n",
      "Epoch 69/150\n",
      "29/29 [==============================] - 0s 2ms/step - loss: 0.2712 - mean_squared_error: 0.2712 - val_loss: 0.3696 - val_mean_squared_error: 0.3696\n",
      "Epoch 70/150\n",
      "29/29 [==============================] - 0s 2ms/step - loss: 0.2562 - mean_squared_error: 0.2562 - val_loss: 0.3754 - val_mean_squared_error: 0.3754\n",
      "Epoch 71/150\n",
      "29/29 [==============================] - 0s 2ms/step - loss: 0.2493 - mean_squared_error: 0.2493 - val_loss: 0.3783 - val_mean_squared_error: 0.3783\n",
      "Epoch 72/150\n",
      "29/29 [==============================] - 0s 2ms/step - loss: 0.2502 - mean_squared_error: 0.2502 - val_loss: 0.3587 - val_mean_squared_error: 0.3587\n",
      "Epoch 73/150\n",
      "29/29 [==============================] - 0s 2ms/step - loss: 0.2528 - mean_squared_error: 0.2528 - val_loss: 0.3646 - val_mean_squared_error: 0.3646\n",
      "Epoch 74/150\n",
      "29/29 [==============================] - 0s 2ms/step - loss: 0.2450 - mean_squared_error: 0.2450 - val_loss: 0.3524 - val_mean_squared_error: 0.3524\n",
      "Epoch 75/150\n",
      "29/29 [==============================] - 0s 2ms/step - loss: 0.2449 - mean_squared_error: 0.2449 - val_loss: 0.3635 - val_mean_squared_error: 0.3635\n",
      "Epoch 76/150\n",
      "29/29 [==============================] - 0s 2ms/step - loss: 0.2397 - mean_squared_error: 0.2397 - val_loss: 0.3662 - val_mean_squared_error: 0.3662\n",
      "Epoch 77/150\n",
      "29/29 [==============================] - 0s 2ms/step - loss: 0.2407 - mean_squared_error: 0.2407 - val_loss: 0.3771 - val_mean_squared_error: 0.3771\n",
      "Epoch 78/150\n",
      "29/29 [==============================] - 0s 2ms/step - loss: 0.2417 - mean_squared_error: 0.2417 - val_loss: 0.3776 - val_mean_squared_error: 0.3776\n",
      "Epoch 79/150\n",
      "29/29 [==============================] - 0s 2ms/step - loss: 0.2471 - mean_squared_error: 0.2471 - val_loss: 0.3657 - val_mean_squared_error: 0.3657\n",
      "Epoch 80/150\n",
      "29/29 [==============================] - 0s 2ms/step - loss: 0.2378 - mean_squared_error: 0.2378 - val_loss: 0.3873 - val_mean_squared_error: 0.3873\n",
      "Epoch 81/150\n",
      "29/29 [==============================] - 0s 3ms/step - loss: 0.2605 - mean_squared_error: 0.2605 - val_loss: 0.3886 - val_mean_squared_error: 0.3886\n",
      "Epoch 82/150\n",
      "29/29 [==============================] - 0s 2ms/step - loss: 0.2455 - mean_squared_error: 0.2455 - val_loss: 0.3842 - val_mean_squared_error: 0.3842\n",
      "Epoch 83/150\n",
      "29/29 [==============================] - 0s 2ms/step - loss: 0.2293 - mean_squared_error: 0.2293 - val_loss: 0.3835 - val_mean_squared_error: 0.3835\n",
      "Epoch 84/150\n",
      "29/29 [==============================] - 0s 2ms/step - loss: 0.2362 - mean_squared_error: 0.2362 - val_loss: 0.3559 - val_mean_squared_error: 0.3559\n",
      "Epoch 85/150\n",
      "29/29 [==============================] - 0s 2ms/step - loss: 0.2269 - mean_squared_error: 0.2269 - val_loss: 0.3721 - val_mean_squared_error: 0.3721\n",
      "Epoch 86/150\n",
      "29/29 [==============================] - 0s 2ms/step - loss: 0.2351 - mean_squared_error: 0.2351 - val_loss: 0.3615 - val_mean_squared_error: 0.3615\n",
      "Epoch 87/150\n",
      "29/29 [==============================] - 0s 2ms/step - loss: 0.2299 - mean_squared_error: 0.2299 - val_loss: 0.3598 - val_mean_squared_error: 0.3598\n",
      "Epoch 88/150\n",
      "29/29 [==============================] - 0s 2ms/step - loss: 0.2314 - mean_squared_error: 0.2314 - val_loss: 0.3821 - val_mean_squared_error: 0.3821\n",
      "Epoch 89/150\n",
      "29/29 [==============================] - 0s 2ms/step - loss: 0.2177 - mean_squared_error: 0.2177 - val_loss: 0.3704 - val_mean_squared_error: 0.3704\n",
      "Epoch 90/150\n",
      "29/29 [==============================] - 0s 2ms/step - loss: 0.2216 - mean_squared_error: 0.2216 - val_loss: 0.3626 - val_mean_squared_error: 0.3626\n",
      "Epoch 91/150\n",
      "29/29 [==============================] - 0s 2ms/step - loss: 0.2184 - mean_squared_error: 0.2184 - val_loss: 0.3775 - val_mean_squared_error: 0.3775\n",
      "Epoch 92/150\n",
      "29/29 [==============================] - 0s 2ms/step - loss: 0.2253 - mean_squared_error: 0.2253 - val_loss: 0.3606 - val_mean_squared_error: 0.3606\n",
      "Epoch 93/150\n",
      "29/29 [==============================] - 0s 2ms/step - loss: 0.2120 - mean_squared_error: 0.2120 - val_loss: 0.3898 - val_mean_squared_error: 0.3898\n",
      "Epoch 94/150\n",
      "29/29 [==============================] - 0s 2ms/step - loss: 0.2333 - mean_squared_error: 0.2333 - val_loss: 0.3732 - val_mean_squared_error: 0.3732\n",
      "Epoch 95/150\n",
      "29/29 [==============================] - 0s 2ms/step - loss: 0.2133 - mean_squared_error: 0.2133 - val_loss: 0.3596 - val_mean_squared_error: 0.3596\n",
      "Epoch 96/150\n",
      "29/29 [==============================] - 0s 2ms/step - loss: 0.2083 - mean_squared_error: 0.2083 - val_loss: 0.3692 - val_mean_squared_error: 0.3692\n",
      "Epoch 97/150\n",
      "29/29 [==============================] - 0s 3ms/step - loss: 0.2046 - mean_squared_error: 0.2046 - val_loss: 0.3805 - val_mean_squared_error: 0.3805\n",
      "Epoch 98/150\n",
      "29/29 [==============================] - 0s 2ms/step - loss: 0.2057 - mean_squared_error: 0.2057 - val_loss: 0.3608 - val_mean_squared_error: 0.3608\n",
      "Epoch 99/150\n",
      "29/29 [==============================] - 0s 2ms/step - loss: 0.2008 - mean_squared_error: 0.2008 - val_loss: 0.3455 - val_mean_squared_error: 0.3455\n",
      "Epoch 100/150\n",
      "29/29 [==============================] - 0s 2ms/step - loss: 0.2089 - mean_squared_error: 0.2089 - val_loss: 0.3611 - val_mean_squared_error: 0.3611\n",
      "Epoch 101/150\n",
      "29/29 [==============================] - 0s 2ms/step - loss: 0.2057 - mean_squared_error: 0.2057 - val_loss: 0.3627 - val_mean_squared_error: 0.3627\n",
      "Epoch 102/150\n",
      "29/29 [==============================] - 0s 2ms/step - loss: 0.2015 - mean_squared_error: 0.2015 - val_loss: 0.3607 - val_mean_squared_error: 0.3607\n",
      "Epoch 103/150\n",
      "29/29 [==============================] - 0s 2ms/step - loss: 0.2007 - mean_squared_error: 0.2007 - val_loss: 0.3578 - val_mean_squared_error: 0.3578\n",
      "Epoch 104/150\n",
      "29/29 [==============================] - 0s 2ms/step - loss: 0.2049 - mean_squared_error: 0.2049 - val_loss: 0.3944 - val_mean_squared_error: 0.3944\n",
      "Epoch 105/150\n",
      "29/29 [==============================] - 0s 2ms/step - loss: 0.2001 - mean_squared_error: 0.2001 - val_loss: 0.3474 - val_mean_squared_error: 0.3474\n",
      "Epoch 106/150\n",
      "29/29 [==============================] - 0s 2ms/step - loss: 0.1961 - mean_squared_error: 0.1961 - val_loss: 0.3579 - val_mean_squared_error: 0.3579\n",
      "Epoch 107/150\n",
      "29/29 [==============================] - 0s 2ms/step - loss: 0.2008 - mean_squared_error: 0.2008 - val_loss: 0.3747 - val_mean_squared_error: 0.3747\n",
      "Epoch 108/150\n",
      "29/29 [==============================] - 0s 2ms/step - loss: 0.1904 - mean_squared_error: 0.1904 - val_loss: 0.3606 - val_mean_squared_error: 0.3606\n",
      "Epoch 109/150\n",
      "29/29 [==============================] - 0s 2ms/step - loss: 0.1874 - mean_squared_error: 0.1874 - val_loss: 0.3726 - val_mean_squared_error: 0.3726\n",
      "Epoch 110/150\n",
      "29/29 [==============================] - 0s 2ms/step - loss: 0.1930 - mean_squared_error: 0.1930 - val_loss: 0.4368 - val_mean_squared_error: 0.4368\n",
      "Epoch 111/150\n",
      "29/29 [==============================] - 0s 2ms/step - loss: 0.2184 - mean_squared_error: 0.2184 - val_loss: 0.3964 - val_mean_squared_error: 0.3964\n",
      "Epoch 112/150\n",
      "29/29 [==============================] - 0s 2ms/step - loss: 0.2040 - mean_squared_error: 0.2040 - val_loss: 0.3582 - val_mean_squared_error: 0.3582\n",
      "Epoch 113/150\n",
      "29/29 [==============================] - 0s 2ms/step - loss: 0.1859 - mean_squared_error: 0.1859 - val_loss: 0.3608 - val_mean_squared_error: 0.3608\n",
      "Epoch 114/150\n",
      "29/29 [==============================] - 0s 2ms/step - loss: 0.1825 - mean_squared_error: 0.1825 - val_loss: 0.3649 - val_mean_squared_error: 0.3649\n",
      "Epoch 115/150\n",
      "29/29 [==============================] - 0s 2ms/step - loss: 0.1929 - mean_squared_error: 0.1929 - val_loss: 0.4044 - val_mean_squared_error: 0.4044\n",
      "Epoch 116/150\n",
      "29/29 [==============================] - 0s 2ms/step - loss: 0.2065 - mean_squared_error: 0.2065 - val_loss: 0.3852 - val_mean_squared_error: 0.3852\n",
      "Epoch 117/150\n",
      "29/29 [==============================] - 0s 2ms/step - loss: 0.1848 - mean_squared_error: 0.1848 - val_loss: 0.3573 - val_mean_squared_error: 0.3573\n",
      "Epoch 118/150\n",
      "29/29 [==============================] - 0s 2ms/step - loss: 0.1718 - mean_squared_error: 0.1718 - val_loss: 0.3862 - val_mean_squared_error: 0.3862\n",
      "Epoch 119/150\n",
      "29/29 [==============================] - 0s 2ms/step - loss: 0.1805 - mean_squared_error: 0.1805 - val_loss: 0.3891 - val_mean_squared_error: 0.3891\n",
      "Epoch 120/150\n",
      "29/29 [==============================] - 0s 2ms/step - loss: 0.1731 - mean_squared_error: 0.1731 - val_loss: 0.3729 - val_mean_squared_error: 0.3729\n",
      "Epoch 121/150\n",
      "29/29 [==============================] - 0s 2ms/step - loss: 0.1781 - mean_squared_error: 0.1781 - val_loss: 0.3673 - val_mean_squared_error: 0.3673\n",
      "Epoch 122/150\n",
      "29/29 [==============================] - 0s 2ms/step - loss: 0.1655 - mean_squared_error: 0.1655 - val_loss: 0.3903 - val_mean_squared_error: 0.3903\n",
      "Epoch 123/150\n",
      "29/29 [==============================] - 0s 2ms/step - loss: 0.1760 - mean_squared_error: 0.1760 - val_loss: 0.3693 - val_mean_squared_error: 0.3693\n",
      "Epoch 124/150\n",
      "29/29 [==============================] - 0s 2ms/step - loss: 0.1636 - mean_squared_error: 0.1636 - val_loss: 0.3731 - val_mean_squared_error: 0.3731\n",
      "Epoch 125/150\n",
      "29/29 [==============================] - 0s 2ms/step - loss: 0.1629 - mean_squared_error: 0.1629 - val_loss: 0.3838 - val_mean_squared_error: 0.3838\n",
      "Epoch 126/150\n",
      "29/29 [==============================] - 0s 2ms/step - loss: 0.1655 - mean_squared_error: 0.1655 - val_loss: 0.4089 - val_mean_squared_error: 0.4089\n",
      "Epoch 127/150\n",
      "29/29 [==============================] - 0s 3ms/step - loss: 0.1648 - mean_squared_error: 0.1648 - val_loss: 0.3667 - val_mean_squared_error: 0.3667\n",
      "Epoch 128/150\n",
      "29/29 [==============================] - 0s 4ms/step - loss: 0.1578 - mean_squared_error: 0.1578 - val_loss: 0.4241 - val_mean_squared_error: 0.4241\n",
      "Epoch 129/150\n",
      "29/29 [==============================] - 0s 8ms/step - loss: 0.1743 - mean_squared_error: 0.1743 - val_loss: 0.3739 - val_mean_squared_error: 0.3739\n",
      "Epoch 130/150\n",
      "29/29 [==============================] - 0s 6ms/step - loss: 0.1554 - mean_squared_error: 0.1554 - val_loss: 0.4128 - val_mean_squared_error: 0.4128\n",
      "Epoch 131/150\n",
      "29/29 [==============================] - 0s 3ms/step - loss: 0.1531 - mean_squared_error: 0.1531 - val_loss: 0.4062 - val_mean_squared_error: 0.4062\n",
      "Epoch 132/150\n",
      "29/29 [==============================] - 0s 2ms/step - loss: 0.1570 - mean_squared_error: 0.1570 - val_loss: 0.4055 - val_mean_squared_error: 0.4055\n",
      "Epoch 133/150\n",
      "29/29 [==============================] - 0s 2ms/step - loss: 0.1488 - mean_squared_error: 0.1488 - val_loss: 0.3916 - val_mean_squared_error: 0.3916\n",
      "Epoch 134/150\n",
      "29/29 [==============================] - 0s 2ms/step - loss: 0.1523 - mean_squared_error: 0.1523 - val_loss: 0.4121 - val_mean_squared_error: 0.4121\n",
      "Epoch 135/150\n",
      "29/29 [==============================] - 0s 4ms/step - loss: 0.1577 - mean_squared_error: 0.1577 - val_loss: 0.4371 - val_mean_squared_error: 0.4371\n",
      "Epoch 136/150\n",
      "29/29 [==============================] - 0s 3ms/step - loss: 0.1565 - mean_squared_error: 0.1565 - val_loss: 0.4151 - val_mean_squared_error: 0.4151\n",
      "Epoch 137/150\n",
      "29/29 [==============================] - 0s 2ms/step - loss: 0.1563 - mean_squared_error: 0.1563 - val_loss: 0.4191 - val_mean_squared_error: 0.4191\n",
      "Epoch 138/150\n",
      "29/29 [==============================] - 0s 3ms/step - loss: 0.1536 - mean_squared_error: 0.1536 - val_loss: 0.3994 - val_mean_squared_error: 0.3994\n",
      "Epoch 139/150\n",
      "29/29 [==============================] - 0s 2ms/step - loss: 0.1426 - mean_squared_error: 0.1426 - val_loss: 0.4269 - val_mean_squared_error: 0.4269\n",
      "Epoch 140/150\n",
      "29/29 [==============================] - 0s 2ms/step - loss: 0.1502 - mean_squared_error: 0.1502 - val_loss: 0.4052 - val_mean_squared_error: 0.4052\n",
      "Epoch 141/150\n",
      "29/29 [==============================] - 0s 2ms/step - loss: 0.1386 - mean_squared_error: 0.1386 - val_loss: 0.4300 - val_mean_squared_error: 0.4300\n",
      "Epoch 142/150\n",
      "29/29 [==============================] - 0s 2ms/step - loss: 0.1383 - mean_squared_error: 0.1383 - val_loss: 0.4406 - val_mean_squared_error: 0.4406\n",
      "Epoch 143/150\n",
      "29/29 [==============================] - 0s 3ms/step - loss: 0.1451 - mean_squared_error: 0.1451 - val_loss: 0.4202 - val_mean_squared_error: 0.4202\n",
      "Epoch 144/150\n",
      "29/29 [==============================] - 0s 3ms/step - loss: 0.1526 - mean_squared_error: 0.1526 - val_loss: 0.4859 - val_mean_squared_error: 0.4859\n",
      "Epoch 145/150\n",
      "29/29 [==============================] - 0s 3ms/step - loss: 0.1620 - mean_squared_error: 0.1620 - val_loss: 0.4474 - val_mean_squared_error: 0.4474\n",
      "Epoch 146/150\n",
      "29/29 [==============================] - 0s 2ms/step - loss: 0.1414 - mean_squared_error: 0.1414 - val_loss: 0.4645 - val_mean_squared_error: 0.4645\n",
      "Epoch 147/150\n",
      "29/29 [==============================] - 0s 2ms/step - loss: 0.1430 - mean_squared_error: 0.1430 - val_loss: 0.4710 - val_mean_squared_error: 0.4710\n",
      "Epoch 148/150\n",
      "29/29 [==============================] - 0s 2ms/step - loss: 0.1443 - mean_squared_error: 0.1443 - val_loss: 0.4492 - val_mean_squared_error: 0.4492\n",
      "Epoch 149/150\n",
      "29/29 [==============================] - 0s 2ms/step - loss: 0.1305 - mean_squared_error: 0.1305 - val_loss: 0.4164 - val_mean_squared_error: 0.4164\n",
      "Epoch 150/150\n",
      "29/29 [==============================] - 0s 2ms/step - loss: 0.1313 - mean_squared_error: 0.1313 - val_loss: 0.4323 - val_mean_squared_error: 0.4323\n"
     ]
    }
   ],
   "source": [
    "\n",
    "history = model.fit(X_train, y_train, epochs=150, batch_size=32, validation_data=(X_test, y_test))"
   ]
  },
  {
   "cell_type": "markdown",
   "metadata": {},
   "source": [
    "## Evaluasi Model Dengan r2_score"
   ]
  },
  {
   "cell_type": "code",
   "execution_count": 207,
   "metadata": {},
   "outputs": [
    {
     "name": "stdout",
     "output_type": "stream",
     "text": [
      "8/8 [==============================] - 0s 1ms/step\n"
     ]
    }
   ],
   "source": [
    "y_pred = model.predict(X_test)\n",
    "r2 = r2_score(y_test, y_pred)"
   ]
  },
  {
   "cell_type": "markdown",
   "metadata": {},
   "source": [
    "## Grafik Loss"
   ]
  },
  {
   "cell_type": "code",
   "execution_count": 208,
   "metadata": {},
   "outputs": [
    {
     "data": {
      "text/plain": [
       "Text(0.5, 1.0, 'Grafik Loss')"
      ]
     },
     "execution_count": 208,
     "metadata": {},
     "output_type": "execute_result"
    },
    {
     "data": {
      "image/png": "[encoded data removed]",
      "text/plain": [
       "<Figure size 1200x600 with 1 Axes>"
      ]
     },
     "metadata": {},
     "output_type": "display_data"
    }
   ],
   "source": [
    "plt.figure(figsize=(12, 6))\n",
    "plt.plot(history.history['loss'], label='Training Loss', color='red')\n",
    "plt.plot(history.history['val_loss'], label='Validation Loss', color='blue')\n",
    "plt.xlabel('Epochs')\n",
    "plt.ylabel('Loss')\n",
    "plt.legend()\n",
    "plt.title('Grafik Loss')"
   ]
  },
  {
   "cell_type": "markdown",
   "metadata": {},
   "source": [
    "## Grafik MAE (ERROR)"
   ]
  },
  {
   "cell_type": "code",
   "execution_count": 209,
   "metadata": {},
   "outputs": [
    {
     "data": {
      "image/png": "[encoded data removed]",
      "text/plain": [
       "<Figure size 1200x600 with 1 Axes>"
      ]
     },
     "metadata": {},
     "output_type": "display_data"
    }
   ],
   "source": [
    "plt.figure(figsize=(12, 6))\n",
    "plt.plot(history.history['mean_squared_error'], label='Training MSE',color=\"red\")\n",
    "plt.plot(history.history['val_mean_squared_error'], label='Validation MSE', color=\"blue\")\n",
    "plt.xlabel('Epochs')\n",
    "plt.ylabel('MSE')\n",
    "plt.legend()\n",
    "plt.title('Grafik Mean Squared Error')\n",
    "plt.show()"
   ]
  },
  {
   "cell_type": "markdown",
   "metadata": {},
   "source": [
    "## Output Nilai dengan R2_SCORE"
   ]
  },
  {
   "cell_type": "code",
   "execution_count": 210,
   "metadata": {},
   "outputs": [
    {
     "name": "stdout",
     "output_type": "stream",
     "text": [
      "R2 Score:  0.22307753840343325\n"
     ]
    }
   ],
   "source": [
    "# Output nilai r2_score\n",
    "print(\"R2 Score: \", r2)"
   ]
  }
 ],
 "metadata": {
  "kernelspec": {
   "display_name": "Python 3",
   "language": "python",
   "name": "python3"
  },
  "language_info": {
   "codemirror_mode": {
    "name": "ipython",
    "version": 3
   },
   "file_extension": ".py",
   "mimetype": "text/x-python",
   "name": "python",
   "nbconvert_exporter": "python",
   "pygments_lexer": "ipython3",
   "version": "3.10.7"
  }
 },
 "nbformat": 4,
 "nbformat_minor": 2
}
